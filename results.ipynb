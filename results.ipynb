{
 "cells": [
  {
   "cell_type": "code",
   "execution_count": 9,
   "id": "71d5c35d-6b8b-40b2-8884-ec059e21fc85",
   "metadata": {},
   "outputs": [],
   "source": [
    "import wandb\n",
    "import pandas as pd"
   ]
  },
  {
   "cell_type": "code",
   "execution_count": 10,
   "id": "8f89327a-fa27-4971-a3d8-959083ff7545",
   "metadata": {},
   "outputs": [],
   "source": [
    "api = wandb.Api()\n",
    "runs_api = api.runs(\"yort/thesis\")"
   ]
  },
  {
   "cell_type": "code",
   "execution_count": 148,
   "id": "06f65a12-728b-4099-951d-f58cf200494b",
   "metadata": {},
   "outputs": [],
   "source": [
    "collected_run_names = []\n",
    "runs = []\n",
    "for run in runs_api:\n",
    "    if run.config['epochs'] == 50:\n",
    "        continue\n",
    "    if run.name in collected_run_names:\n",
    "        continue\n",
    "    collected_run_names.append(run.name)\n",
    "    run_config = {\n",
    "        \"group\": run.group,\n",
    "        \"epochs\": run.config['epochs'],\n",
    "        \"metric\": run.config['metric'],\n",
    "        \"conv_type\": run.config['conv_type'],\n",
    "        \"depth\": run.config['backbone_config']['depth'],\n",
    "        \"mlp_depth\": run.config['backbone_config']['mlp_depth'],\n",
    "        \"dim\": run.config['backbone_config']['hidden_dim'],\n",
    "    }\n",
    "    run_results = {\n",
    "        \"balanced_accuracy\": run.summary[\"balanced_accuracy/test\"] if \"balanced_accuracy/test\" in run.summary else -1,\n",
    "        \"map_at_k\": run.summary[\"map_at_k/test\"] if \"map_at_k/test\" in run.summary else -1,\n",
    "    }\n",
    "    runs.append({**run_config, **run_results})\n",
    "# runs.pop(247)\n",
    "runs = pd.DataFrame(runs)"
   ]
  },
  {
   "cell_type": "code",
   "execution_count": 149,
   "id": "2f3e9bc4-2c9a-4f78-b32f-1f48664242c9",
   "metadata": {},
   "outputs": [
    {
     "data": {
      "text/html": [
       "<div>\n",
       "<style scoped>\n",
       "    .dataframe tbody tr th:only-of-type {\n",
       "        vertical-align: middle;\n",
       "    }\n",
       "\n",
       "    .dataframe tbody tr th {\n",
       "        vertical-align: top;\n",
       "    }\n",
       "\n",
       "    .dataframe thead th {\n",
       "        text-align: right;\n",
       "    }\n",
       "</style>\n",
       "<table border=\"1\" class=\"dataframe\">\n",
       "  <thead>\n",
       "    <tr style=\"text-align: right;\">\n",
       "      <th></th>\n",
       "      <th>epochs</th>\n",
       "      <th>depth</th>\n",
       "      <th>mlp_depth</th>\n",
       "      <th>dim</th>\n",
       "      <th>balanced_accuracy</th>\n",
       "      <th>map_at_k</th>\n",
       "    </tr>\n",
       "    <tr>\n",
       "      <th>conv_type</th>\n",
       "      <th></th>\n",
       "      <th></th>\n",
       "      <th></th>\n",
       "      <th></th>\n",
       "      <th></th>\n",
       "      <th></th>\n",
       "    </tr>\n",
       "  </thead>\n",
       "  <tbody>\n",
       "    <tr>\n",
       "      <th>gat</th>\n",
       "      <td>100</td>\n",
       "      <td>2</td>\n",
       "      <td>2</td>\n",
       "      <td>256</td>\n",
       "      <td>0.739593</td>\n",
       "      <td>0.186209</td>\n",
       "    </tr>\n",
       "    <tr>\n",
       "      <th>gcn</th>\n",
       "      <td>100</td>\n",
       "      <td>2</td>\n",
       "      <td>2</td>\n",
       "      <td>256</td>\n",
       "      <td>0.728200</td>\n",
       "      <td>0.187613</td>\n",
       "    </tr>\n",
       "    <tr>\n",
       "      <th>gin</th>\n",
       "      <td>100</td>\n",
       "      <td>2</td>\n",
       "      <td>2</td>\n",
       "      <td>256</td>\n",
       "      <td>0.722874</td>\n",
       "      <td>0.174065</td>\n",
       "    </tr>\n",
       "    <tr>\n",
       "      <th>res</th>\n",
       "      <td>100</td>\n",
       "      <td>2</td>\n",
       "      <td>2</td>\n",
       "      <td>256</td>\n",
       "      <td>0.750703</td>\n",
       "      <td>0.186395</td>\n",
       "    </tr>\n",
       "  </tbody>\n",
       "</table>\n",
       "</div>"
      ],
      "text/plain": [
       "           epochs  depth  mlp_depth  dim  balanced_accuracy  map_at_k\n",
       "conv_type                                                            \n",
       "gat           100      2          2  256           0.739593  0.186209\n",
       "gcn           100      2          2  256           0.728200  0.187613\n",
       "gin           100      2          2  256           0.722874  0.174065\n",
       "res           100      2          2  256           0.750703  0.186395"
      ]
     },
     "execution_count": 149,
     "metadata": {},
     "output_type": "execute_result"
    }
   ],
   "source": [
    "runs.groupby(\"conv_type\").max(\"balanced_accuracy\")"
   ]
  },
  {
   "cell_type": "code",
   "execution_count": 150,
   "id": "00104e13-3f33-4d26-95ca-2c19ae935e4b",
   "metadata": {},
   "outputs": [
    {
     "data": {
      "text/html": [
       "<div>\n",
       "<style scoped>\n",
       "    .dataframe tbody tr th:only-of-type {\n",
       "        vertical-align: middle;\n",
       "    }\n",
       "\n",
       "    .dataframe tbody tr th {\n",
       "        vertical-align: top;\n",
       "    }\n",
       "\n",
       "    .dataframe thead th {\n",
       "        text-align: right;\n",
       "    }\n",
       "</style>\n",
       "<table border=\"1\" class=\"dataframe\">\n",
       "  <thead>\n",
       "    <tr style=\"text-align: right;\">\n",
       "      <th></th>\n",
       "      <th>epochs</th>\n",
       "      <th>depth</th>\n",
       "      <th>mlp_depth</th>\n",
       "      <th>dim</th>\n",
       "      <th>balanced_accuracy</th>\n",
       "      <th>map_at_k</th>\n",
       "    </tr>\n",
       "    <tr>\n",
       "      <th>conv_type</th>\n",
       "      <th></th>\n",
       "      <th></th>\n",
       "      <th></th>\n",
       "      <th></th>\n",
       "      <th></th>\n",
       "      <th></th>\n",
       "    </tr>\n",
       "  </thead>\n",
       "  <tbody>\n",
       "    <tr>\n",
       "      <th>gat</th>\n",
       "      <td>100</td>\n",
       "      <td>2</td>\n",
       "      <td>2</td>\n",
       "      <td>256</td>\n",
       "      <td>0.739593</td>\n",
       "      <td>0.186209</td>\n",
       "    </tr>\n",
       "    <tr>\n",
       "      <th>gcn</th>\n",
       "      <td>100</td>\n",
       "      <td>2</td>\n",
       "      <td>2</td>\n",
       "      <td>256</td>\n",
       "      <td>0.728200</td>\n",
       "      <td>0.187613</td>\n",
       "    </tr>\n",
       "    <tr>\n",
       "      <th>gin</th>\n",
       "      <td>100</td>\n",
       "      <td>2</td>\n",
       "      <td>2</td>\n",
       "      <td>256</td>\n",
       "      <td>0.722874</td>\n",
       "      <td>0.174065</td>\n",
       "    </tr>\n",
       "    <tr>\n",
       "      <th>res</th>\n",
       "      <td>100</td>\n",
       "      <td>2</td>\n",
       "      <td>2</td>\n",
       "      <td>256</td>\n",
       "      <td>0.750703</td>\n",
       "      <td>0.186395</td>\n",
       "    </tr>\n",
       "  </tbody>\n",
       "</table>\n",
       "</div>"
      ],
      "text/plain": [
       "           epochs  depth  mlp_depth  dim  balanced_accuracy  map_at_k\n",
       "conv_type                                                            \n",
       "gat           100      2          2  256           0.739593  0.186209\n",
       "gcn           100      2          2  256           0.728200  0.187613\n",
       "gin           100      2          2  256           0.722874  0.174065\n",
       "res           100      2          2  256           0.750703  0.186395"
      ]
     },
     "execution_count": 150,
     "metadata": {},
     "output_type": "execute_result"
    }
   ],
   "source": [
    "runs.groupby(\"conv_type\").max(\"map_at_k\")"
   ]
  },
  {
   "cell_type": "markdown",
   "id": "91c98290-915b-4c33-b590-3276e58bcf6a",
   "metadata": {},
   "source": [
    "## Analyze effect of depth"
   ]
  },
  {
   "cell_type": "code",
   "execution_count": 165,
   "id": "970675c9-0a54-421d-b89d-613aaa6338ac",
   "metadata": {},
   "outputs": [
    {
     "data": {
      "text/plain": [
       "array([-0.01016112,  0.00165707,  0.00364844,  0.00320191,  0.00527015,\n",
       "       -0.00259765, -0.01063619, -0.0131451 , -0.01450015, -0.01642827,\n",
       "       -0.01752724, -0.01721565, -0.08671358, -0.08014808, -0.07849192,\n",
       "       -0.06639958, -0.07522854, -0.0726088 , -0.00154413, -0.00167477,\n",
       "        0.00026499, -0.02908696, -0.01219119, -0.01222385])"
      ]
     },
     "execution_count": 165,
     "metadata": {},
     "output_type": "execute_result"
    }
   ],
   "source": [
    "metric = 'balanced_accuracy'\n",
    "runs_depth = runs.copy()\n",
    "runs_depth['conv_type__dim'] = runs_depth.apply(lambda row: str(row.conv_type) + str(row.dim), axis=1)\n",
    "depth1runs = runs_depth.query(f\"{metric} > 0 and depth == 1\").sort_values(by=['conv_type__dim', metric])\n",
    "depth2runs = runs_depth.query(f\"{metric} > 0 and depth == 2\").sort_values(by=['conv_type__dim', metric])\n",
    "differences = depth2runs[metric].values - depth1runs[metric].values\n",
    "differences"
   ]
  },
  {
   "cell_type": "code",
   "execution_count": 166,
   "id": "24633af4-d6fb-42ce-ab9d-607f6df6eae0",
   "metadata": {},
   "outputs": [],
   "source": [
    "from scipy.stats import ttest_1samp as ttest"
   ]
  },
  {
   "cell_type": "code",
   "execution_count": 167,
   "id": "7fb2ce3e-2f0d-42de-940d-08719497af11",
   "metadata": {},
   "outputs": [
    {
     "name": "stdout",
     "output_type": "stream",
     "text": [
      "Is depth 2 accuracy less?\n"
     ]
    },
    {
     "data": {
      "text/plain": [
       "TtestResult(statistic=-3.9102034612725003, pvalue=0.00035145207753474266, df=23)"
      ]
     },
     "execution_count": 167,
     "metadata": {},
     "output_type": "execute_result"
    }
   ],
   "source": [
    "print(\"Is depth 2 accuracy less?\")\n",
    "ttest(differences, 0, alternative='less')"
   ]
  },
  {
   "cell_type": "markdown",
   "id": "c76fff88-4c12-4e3f-921c-932f9d86195f",
   "metadata": {
    "tags": []
   },
   "source": [
    "## Analyze effect of dim"
   ]
  },
  {
   "cell_type": "code",
   "execution_count": 169,
   "id": "e5ede737-be89-42e4-9159-3de0908bb61f",
   "metadata": {},
   "outputs": [
    {
     "data": {
      "text/plain": [
       "array([ 0.01003313,  0.00921452,  0.00123585, -0.0033299 ,  0.00560144,\n",
       "        0.00748194,  0.00508764,  0.00573048,  0.00763728,  0.01087972,\n",
       "        0.01011262,  0.01035278,  0.0248775 ,  0.01447519,  0.01486327,\n",
       "        0.0045635 ,  0.00955565,  0.00898015,  0.00744963,  0.00698258,\n",
       "        0.00531289,  0.03499246,  0.017499  ,  0.01780174])"
      ]
     },
     "execution_count": 169,
     "metadata": {},
     "output_type": "execute_result"
    }
   ],
   "source": [
    "metric = 'balanced_accuracy'\n",
    "runs_dim = runs.copy()\n",
    "runs_dim['conv_type__depth'] = runs_dim.apply(lambda row: str(row.conv_type) + str(row.depth), axis=1)\n",
    "dim64runs = runs_dim.query(f\"{metric} > 0 and dim == 64\").sort_values(by=['conv_type__depth', metric])\n",
    "dim256runs = runs_dim.query(f\"{metric} > 0 and dim == 256\").sort_values(by=['conv_type__depth', metric])\n",
    "differences = dim256runs[metric].values - dim64runs[metric].values\n",
    "differences"
   ]
  },
  {
   "cell_type": "code",
   "execution_count": 170,
   "id": "075e67c6-66ef-4ba7-8602-894ff099f1e1",
   "metadata": {},
   "outputs": [
    {
     "name": "stdout",
     "output_type": "stream",
     "text": [
      "Is dim 256 accuracy greater?\n"
     ]
    },
    {
     "data": {
      "text/plain": [
       "TtestResult(statistic=6.466832013105744, pvalue=6.708074197050342e-07, df=23)"
      ]
     },
     "execution_count": 170,
     "metadata": {},
     "output_type": "execute_result"
    }
   ],
   "source": [
    "print(\"Is dim 256 accuracy greater?\")\n",
    "ttest(differences, 0, alternative='greater')"
   ]
  }
 ],
 "metadata": {
  "kernelspec": {
   "display_name": "thesis",
   "language": "python",
   "name": "thesis"
  },
  "language_info": {
   "codemirror_mode": {
    "name": "ipython",
    "version": 3
   },
   "file_extension": ".py",
   "mimetype": "text/x-python",
   "name": "python",
   "nbconvert_exporter": "python",
   "pygments_lexer": "ipython3",
   "version": "3.10.11"
  }
 },
 "nbformat": 4,
 "nbformat_minor": 5
}
