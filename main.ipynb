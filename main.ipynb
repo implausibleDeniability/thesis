{
 "cells": [
  {
   "cell_type": "code",
   "execution_count": 9,
   "id": "b81f00d6-71c4-42e6-be08-34ca1ef0874f",
   "metadata": {},
   "outputs": [],
   "source": [
    "import json\n",
    "with open(\"user_sample.json\") as file:\n",
    "    users = json.load(file)['users']\n",
    "with open(\"topology.json\") as file:\n",
    "    topology = json.load(file)['topology']\n",
    "with open(\"communities_sample.json\") as file:\n",
    "    communities = json.load(file)['communities']"
   ]
  },
  {
   "cell_type": "code",
   "execution_count": 2,
   "id": "6884a2ab-0b4a-40f1-a521-c94ab10d01fc",
   "metadata": {},
   "outputs": [],
   "source": [
    "from src.scrapped_data_decoders.multi_decoder import MultiDecoder\n",
    "from src.preprocessing.user_featurizer import UserFeaturizer"
   ]
  },
  {
   "cell_type": "code",
   "execution_count": 3,
   "id": "fe03ff56-510d-4923-844a-9b142ae461ef",
   "metadata": {},
   "outputs": [],
   "source": [
    "decoder = MultiDecoder()\n",
    "user_preferences = [decoder.decode(user) for user in users]\n",
    "user_features = UserFeaturizer().build_feature_matrix(user_preferences)"
   ]
  },
  {
   "cell_type": "code",
   "execution_count": 4,
   "id": "0ec910d8-6eab-4de7-b3a5-065330fd9403",
   "metadata": {},
   "outputs": [
    {
     "name": "stderr",
     "output_type": "stream",
     "text": [
      "100%|██████████| 116641/116641 [00:00<00:00, 1411969.93it/s]\n"
     ]
    }
   ],
   "source": [
    "from src.preprocessing.edge_builder import EdgeBuilder\n",
    "public_user_id_to_research_id = {\n",
    "    user['_id']: i \n",
    "    for i, user in enumerate(communities)\n",
    "}\n",
    "edge_builder = EdgeBuilder(public_user_id_to_research_id)\n",
    "edges = edge_builder.build(topology)"
   ]
  },
  {
   "cell_type": "code",
   "execution_count": 6,
   "id": "5b312251-4d7c-416c-b714-e1025f8f05aa",
   "metadata": {},
   "outputs": [
    {
     "name": "stderr",
     "output_type": "stream",
     "text": [
      "100%|██████████| 1000/1000 [00:00<00:00, 2256.26it/s]\n",
      "100%|██████████| 1000/1000 [00:00<00:00, 8080.25it/s]\n"
     ]
    }
   ],
   "source": [
    "from src.preprocessing.community_subscription_matrix_builder import CommunitySubscriptionMatrixBuilder\n",
    "matrix_builder = CommunitySubscriptionMatrixBuilder()\n",
    "matrix = matrix_builder.build(communities, public_user_id_to_research_id)"
   ]
  },
  {
   "cell_type": "code",
   "execution_count": null,
   "id": "5570342e-db81-4118-8d00-0ce7d59a29e5",
   "metadata": {},
   "outputs": [],
   "source": [
    "from pytorch_geomet"
   ]
  }
 ],
 "metadata": {
  "kernelspec": {
   "display_name": "base",
   "language": "python",
   "name": "base"
  },
  "language_info": {
   "codemirror_mode": {
    "name": "ipython",
    "version": 3
   },
   "file_extension": ".py",
   "mimetype": "text/x-python",
   "name": "python",
   "nbconvert_exporter": "python",
   "pygments_lexer": "ipython3",
   "version": "3.10.10"
  }
 },
 "nbformat": 4,
 "nbformat_minor": 5
}
