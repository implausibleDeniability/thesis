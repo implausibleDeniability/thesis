{
 "cells": [
  {
   "cell_type": "code",
   "execution_count": 1,
   "id": "f3659968-9d13-4b43-8a95-f7b459134b2f",
   "metadata": {},
   "outputs": [],
   "source": [
    "import json\n",
    "import pandas as pd\n",
    "import tqdm\n",
    "\n",
    "from src.scrapped_data_decoders.multi_decoder import MultiDecoder\n",
    "from src.preprocessing.user_featurizer import UserFeaturizer\n",
    "from src.preprocessing.edge_builder import EdgeBuilder\n",
    "from src.preprocessing.community_subscription_matrix_builder import CommunitySubscriptionMatrixBuilder"
   ]
  },
  {
   "cell_type": "code",
   "execution_count": 2,
   "id": "a4a0b63a-de36-4e4a-9bc7-05b00df1262d",
   "metadata": {},
   "outputs": [],
   "source": [
    "with open(\"mongo_dump.json\") as file:\n",
    "    data = json.load(file)"
   ]
  },
  {
   "cell_type": "code",
   "execution_count": 5,
   "id": "6f1efa8a-4e6e-4267-9c3c-43b479d477b5",
   "metadata": {},
   "outputs": [],
   "source": [
    "user_id_to_ordered_id = {\n",
    "    user['_id']: i \n",
    "    for i, user in enumerate(data['communities'])\n",
    "}"
   ]
  },
  {
   "cell_type": "markdown",
   "id": "b9793e10-87f4-485a-86e1-a06ecb335b84",
   "metadata": {},
   "source": [
    "## Build user features"
   ]
  },
  {
   "cell_type": "code",
   "execution_count": 6,
   "id": "0390bd20-7bab-42ed-aaf4-0c3d19dc110f",
   "metadata": {},
   "outputs": [],
   "source": [
    "user_info = list(filter(lambda user: user['_id'] in user_id_to_ordered_id, data['users']))"
   ]
  },
  {
   "cell_type": "code",
   "execution_count": 7,
   "id": "80631386-78e2-4952-8655-973c943641db",
   "metadata": {},
   "outputs": [],
   "source": [
    "decoder = MultiDecoder()\n",
    "user_preferences = [decoder.decode(user) for user in user_info]\n",
    "user_features = UserFeaturizer().build_feature_matrix(user_preferences, user_id_to_ordered_id)"
   ]
  },
  {
   "cell_type": "markdown",
   "id": "8e47ae7a-1374-47b5-8243-f6364dee20a6",
   "metadata": {},
   "source": [
    "## Build edges between users"
   ]
  },
  {
   "cell_type": "code",
   "execution_count": 8,
   "id": "b127310d-6609-482c-a930-a0dbd4a93b92",
   "metadata": {},
   "outputs": [
    {
     "name": "stderr",
     "output_type": "stream",
     "text": [
      "100%|██████████| 116641/116641 [00:01<00:00, 76933.98it/s]\n"
     ]
    }
   ],
   "source": [
    "edge_builder = EdgeBuilder(user_id_to_ordered_id)\n",
    "edges = edge_builder.build(data['topology'])"
   ]
  },
  {
   "cell_type": "code",
   "execution_count": 9,
   "id": "ba936576-881b-4499-84e2-df5a7b039f08",
   "metadata": {},
   "outputs": [
    {
     "data": {
      "text/plain": [
       "(2, 770052)"
      ]
     },
     "execution_count": 9,
     "metadata": {},
     "output_type": "execute_result"
    }
   ],
   "source": [
    "edges.shape"
   ]
  },
  {
   "cell_type": "code",
   "execution_count": 10,
   "id": "65c745c8-d97a-4984-8f24-8e5793996b25",
   "metadata": {},
   "outputs": [
    {
     "name": "stderr",
     "output_type": "stream",
     "text": [
      "100%|██████████| 92153/92153 [00:02<00:00, 44055.58it/s]\n",
      "100%|██████████| 92153/92153 [00:04<00:00, 19600.10it/s]\n"
     ]
    }
   ],
   "source": [
    "matrix_builder = CommunitySubscriptionMatrixBuilder()\n",
    "matrix = matrix_builder.build(data['communities'], user_id_to_ordered_id)"
   ]
  },
  {
   "cell_type": "markdown",
   "id": "0f699944-fdcd-41f2-94f7-388185e2ba33",
   "metadata": {},
   "source": [
    "## GNN"
   ]
  },
  {
   "cell_type": "code",
   "execution_count": 11,
   "id": "7b223b3f-6085-47e8-ab23-6676399fd77a",
   "metadata": {},
   "outputs": [],
   "source": [
    "from enum import Enum\n",
    "class ConvType(Enum):\n",
    "    gcn = 1\n",
    "    gat = 2\n",
    "    res = 3\n",
    "    gin = 4"
   ]
  },
  {
   "cell_type": "code",
   "execution_count": 12,
   "id": "680e00de-5ecc-49f4-b9a4-1b6b788c864c",
   "metadata": {},
   "outputs": [
    {
     "name": "stderr",
     "output_type": "stream",
     "text": [
      "/home/maxim/.local/lib/python3.10/site-packages/tqdm/auto.py:22: TqdmWarning: IProgress not found. Please update jupyter and ipywidgets. See https://ipywidgets.readthedocs.io/en/stable/user_install.html\n",
      "  from .autonotebook import tqdm as notebook_tqdm\n"
     ]
    }
   ],
   "source": [
    "import torch\n",
    "from torch.nn import ReLU, Dropout, Embedding\n",
    "from torch_geometric.nn import MLP, Sequential, BatchNorm\n",
    "from torch_geometric.nn.conv import GCNConv, ResGatedGraphConv, GATConv, GINConv\n",
    "\n",
    "class NN(torch.nn.Module):\n",
    "    def __init__(\n",
    "        self,\n",
    "        input_dim: int,\n",
    "        hidden_dim: int,\n",
    "        output_dim: int,\n",
    "        graph_conv: ConvType,\n",
    "        depth: int,\n",
    "        mlp_depth: int,\n",
    "        embeddings: list[int],\n",
    "        use_batchnorm: bool=False,\n",
    "        dropout: float=0,\n",
    "    ):\n",
    "        super().__init__()\n",
    "        self.hidden_dim = hidden_dim\n",
    "        self.embedding_dims = [4, 4, 2, 4, 4, 4, 4]\n",
    "        self.use_batchnorm = False\n",
    "        self.dropout = dropout\n",
    "        self.input_mlp = MLP([input_dim + sum(self.embedding_dims)] + [hidden_dim] * mlp_depth, plain_last=False)\n",
    "        self.conv_layers = Sequential(\n",
    "            \"x, edge_index\",\n",
    "            [\n",
    "                self._build_conv_layer(graph_conv)\n",
    "                for _ in range(depth)\n",
    "            ]\n",
    "        )\n",
    "        self.output_mlp = MLP([hidden_dim] * mlp_depth + [output_dim])\n",
    "        self.sigmoid = torch.nn.Sigmoid()\n",
    "        self._build_embeddings(embeddings)\n",
    "        \n",
    "    def _build_conv_layer(self, conv_type: ConvType):\n",
    "        if conv_type == ConvType.gcn:\n",
    "            conv = (\n",
    "                GCNConv(self.hidden_dim, self.hidden_dim),\n",
    "                'x, edge_index -> x',\n",
    "            )\n",
    "        elif conv_type == ConvType.gat:\n",
    "            conv = (\n",
    "                GATConv(self.hidden_dim, self.hidden_dim),\n",
    "                'x, edge_index -> x',\n",
    "            )\n",
    "        elif conv_type == ConvType.res:\n",
    "            conv = (\n",
    "                ResGatedGraphConv(self.hidden_dim, self.hidden_dim),\n",
    "                'x, edge_index -> x',\n",
    "            )\n",
    "        elif conv_type == ConvType.gin:\n",
    "            conv = (\n",
    "                GINConv(MLP([self.hidden_dim, self.hidden_dim], train_eps=True)),\n",
    "                'x, edge_index -> x',\n",
    "            )\n",
    "        else:\n",
    "            raise NotImplementedError()\n",
    "        conv_layer = [conv]\n",
    "        if self.use_batchnorm:\n",
    "            conv_layer.append((BatchNorm(self.hidden_dim), 'x -> x'))\n",
    "        conv_layer.append(ReLU(inplace=True))\n",
    "        if self.dropout is not None:\n",
    "            conv_layer.append((Dropout(p=self.dropout), 'x -> x'))\n",
    "        conv_layer = Sequential(\"x, edge_index\", conv_layer)\n",
    "        return conv\n",
    "    \n",
    "    def _build_embeddings(self, embedding_sizes):\n",
    "        self.city_embedding = Embedding(embedding_sizes[0], embedding_dim=self.embedding_dims[0], scale_grad_by_freq=True)\n",
    "        self.country_embedding = Embedding(embedding_sizes[1], embedding_dim=self.embedding_dims[1], scale_grad_by_freq=True)\n",
    "        self.sex_embedding = Embedding(embedding_sizes[2], embedding_dim=self.embedding_dims[2], scale_grad_by_freq=True)\n",
    "        self.politics_embedding = Embedding(embedding_sizes[3], embedding_dim=self.embedding_dims[3], scale_grad_by_freq=True)\n",
    "        self.life_embedding = Embedding(embedding_sizes[4], embedding_dim=self.embedding_dims[4], scale_grad_by_freq=True)\n",
    "        self.people_embedding = Embedding(embedding_sizes[5], embedding_dim=self.embedding_dims[5], scale_grad_by_freq=True)\n",
    "        self.alcohol_embedding = Embedding(embedding_sizes[6], embedding_dim=self.embedding_dims[6], scale_grad_by_freq=True)\n",
    "        self.embeddings = [\n",
    "            self.city_embedding,\n",
    "            self.country_embedding,\n",
    "            self.sex_embedding,\n",
    "            self.politics_embedding,\n",
    "            self.life_embedding,\n",
    "            self.people_embedding,\n",
    "            self.alcohol_embedding,\n",
    "        ]\n",
    "    \n",
    "    def forward(self, features, edge_index):\n",
    "        numerical_features = torch.Tensor(features.numerical)\n",
    "        categorical_embeddings = self._extract_embeddings(torch.tensor(features.categorical, dtype=torch.long))\n",
    "        x = torch.cat([numerical_features, categorical_embeddings], dim=-1)\n",
    "        x = self.input_mlp(x)\n",
    "        x = self.conv_layers(x, edge_index)\n",
    "        x = self.output_mlp(x)\n",
    "        probs = self.sigmoid(x)\n",
    "        return probs\n",
    "    \n",
    "    def _extract_embeddings(self, categorical_features) -> torch.Tensor:\n",
    "        feature_embeds = []\n",
    "        for feature_idx in range(categorical_features.shape[1]):\n",
    "            feature = categorical_features[:, feature_idx]\n",
    "            feature_embed = self.embeddings[feature_idx](feature)\n",
    "            feature_embeds.append(feature_embed)\n",
    "        feature_embeds = torch.cat(feature_embeds, dim=-1)\n",
    "        return feature_embeds"
   ]
  },
  {
   "cell_type": "markdown",
   "id": "aaba9813-84ea-403f-9236-0d4c213f8559",
   "metadata": {},
   "source": [
    "# Training"
   ]
  },
  {
   "cell_type": "code",
   "execution_count": 45,
   "id": "ffcdeabe-ebbf-4371-a0a4-75c59e5749da",
   "metadata": {},
   "outputs": [],
   "source": [
    "nn = NN(\n",
    "    input_dim=user_features.numerical.shape[1],\n",
    "    hidden_dim=200,\n",
    "    output_dim=matrix.shape[-1],\n",
    "    graph_conv=ConvType.res,\n",
    "    depth=1,\n",
    "    mlp_depth=2,\n",
    "    embeddings=user_features.categorical.max(axis=0) + 1,\n",
    ")"
   ]
  },
  {
   "cell_type": "code",
   "execution_count": 46,
   "id": "8096a0df-2f1e-4076-89e2-3de6de752943",
   "metadata": {},
   "outputs": [],
   "source": [
    "edge_index = torch.tensor(edges)"
   ]
  },
  {
   "cell_type": "code",
   "execution_count": 47,
   "id": "7acefd92-7cfd-4fb1-812d-727eb27546bd",
   "metadata": {},
   "outputs": [],
   "source": [
    "nn(user_features, edge_index)\n",
    "pass"
   ]
  },
  {
   "cell_type": "code",
   "execution_count": 48,
   "id": "caf7e612-3206-42b4-a700-56198d103a28",
   "metadata": {},
   "outputs": [
    {
     "data": {
      "text/plain": [
       "0.012672150300767926"
      ]
     },
     "execution_count": 48,
     "metadata": {},
     "output_type": "execute_result"
    }
   ],
   "source": [
    "positive_percent = matrix.mean()\n",
    "positive_percent"
   ]
  },
  {
   "cell_type": "code",
   "execution_count": 49,
   "id": "80b53466-bb18-4ca5-916d-8e9dc1878448",
   "metadata": {},
   "outputs": [],
   "source": [
    "y_true = torch.tensor(matrix, dtype=torch.float)"
   ]
  },
  {
   "cell_type": "code",
   "execution_count": null,
   "id": "f0ab424b-2354-419d-87c8-9a30dbc91c16",
   "metadata": {},
   "outputs": [
    {
     "name": "stdout",
     "output_type": "stream",
     "text": [
      "accuracy 0.4994098183543454\n",
      "loss 1.4108797311782837\n",
      "0.47874245367305823\n",
      "----\n",
      "accuracy 0.5307962969277773\n",
      "loss 1.3812289237976074\n",
      "0.4562474001569853\n",
      "----\n",
      "accuracy 0.5506338203779615\n",
      "loss 1.365121603012085\n",
      "0.4337192856806977\n",
      "----\n",
      "accuracy 0.568524231438401\n",
      "loss 1.3525575399398804\n",
      "0.4122101649792555\n",
      "----\n",
      "accuracy 0.5836480684469402\n",
      "loss 1.3416506052017212\n",
      "0.3957501835715242\n",
      "----\n",
      "accuracy 0.5965838661447225\n",
      "loss 1.3319389820098877\n",
      "0.37856419939303837\n",
      "----\n",
      "accuracy 0.6073804592053107\n",
      "loss 1.322317361831665\n",
      "0.3648659656585606\n",
      "----\n",
      "accuracy 0.6160670518350762\n",
      "loss 1.312400221824646\n",
      "0.354358042241345\n",
      "----\n",
      "accuracy 0.6228290274573207\n",
      "loss 1.3024804592132568\n",
      "0.345678165659284\n",
      "----\n",
      "accuracy 0.6288493901164498\n",
      "loss 1.2928543090820312\n",
      "0.34127433000915147\n",
      "----\n",
      "accuracy 0.6347701044641083\n",
      "loss 1.2822420597076416\n",
      "0.3385772573871713\n",
      "----\n"
     ]
    }
   ],
   "source": [
    "from torch.optim import Adam\n",
    "from sklearn.metrics import balanced_accuracy_score\n",
    "N_EPOCHS = 1000\n",
    "optimizer = Adam(nn.parameters())\n",
    "compute_loss = torch.nn.BCELoss(reduction='none')\n",
    "for _ in range(N_EPOCHS):\n",
    "    y_pred = nn(user_features, edge_index)\n",
    "    unbalanced_loss = compute_loss(y_pred, y_true)\n",
    "    positive_coefs = (y_true > 0.5) / positive_percent\n",
    "    negative_coefs = (y_true < 0.5) \n",
    "    coefs = positive_coefs + negative_coefs\n",
    "    loss = (unbalanced_loss * coefs).mean()\n",
    "    optimizer.zero_grad()\n",
    "    loss.backward()\n",
    "    optimizer.step()\n",
    "    accuracy = balanced_accuracy_score(y_true.reshape(-1) > 0.5, y_pred.detach().numpy().reshape(-1) > 0.5)\n",
    "    print(\"accuracy\", accuracy)\n",
    "    print(\"loss\", loss.detach().item())\n",
    "    print((y_pred.detach().numpy().reshape(-1) > 0.5).mean())\n",
    "    print(\"----\")"
   ]
  },
  {
   "cell_type": "code",
   "execution_count": 16,
   "id": "dbbc1b08-baaa-4d85-908f-fe7c702f4177",
   "metadata": {},
   "outputs": [
    {
     "ename": "NameError",
     "evalue": "name 'y_pred' is not defined",
     "output_type": "error",
     "traceback": [
      "\u001b[0;31m---------------------------------------------------------------------------\u001b[0m",
      "\u001b[0;31mNameError\u001b[0m                                 Traceback (most recent call last)",
      "Cell \u001b[0;32mIn[16], line 1\u001b[0m\n\u001b[0;32m----> 1\u001b[0m \u001b[43my_pred\u001b[49m\u001b[38;5;241m.\u001b[39mdetach()\u001b[38;5;241m.\u001b[39mnumpy()\u001b[38;5;241m.\u001b[39mreshape(\u001b[38;5;241m-\u001b[39m\u001b[38;5;241m1\u001b[39m)\u001b[38;5;241m.\u001b[39mmax()\n",
      "\u001b[0;31mNameError\u001b[0m: name 'y_pred' is not defined"
     ]
    }
   ],
   "source": [
    "y_pred.detach().numpy().reshape(-1).max()"
   ]
  }
 ],
 "metadata": {
  "kernelspec": {
   "display_name": "thesis",
   "language": "python",
   "name": "thesis"
  },
  "language_info": {
   "codemirror_mode": {
    "name": "ipython",
    "version": 3
   },
   "file_extension": ".py",
   "mimetype": "text/x-python",
   "name": "python",
   "nbconvert_exporter": "python",
   "pygments_lexer": "ipython3",
   "version": "3.10.11"
  }
 },
 "nbformat": 4,
 "nbformat_minor": 5
}
