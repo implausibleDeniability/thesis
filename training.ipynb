{
 "cells": [
  {
   "cell_type": "code",
   "execution_count": 1,
   "id": "f3659968-9d13-4b43-8a95-f7b459134b2f",
   "metadata": {},
   "outputs": [],
   "source": [
    "import json\n",
    "import pandas as pd\n",
    "import tqdm\n",
    "from src.scrapped_data_decoders.multi_decoder import MultiDecoder\n",
    "from src.preprocessing.user_featurizer import UserFeaturizer"
   ]
  },
  {
   "cell_type": "code",
   "execution_count": 2,
   "id": "a4a0b63a-de36-4e4a-9bc7-05b00df1262d",
   "metadata": {},
   "outputs": [],
   "source": [
    "with open(\"mongo_dump.json\") as file:\n",
    "    data = json.load(file)"
   ]
  },
  {
   "cell_type": "code",
   "execution_count": 3,
   "id": "80631386-78e2-4952-8655-973c943641db",
   "metadata": {},
   "outputs": [],
   "source": [
    "decoder = MultiDecoder()\n",
    "user_preferences = [decoder.decode(user) for user in data['users']]\n",
    "user_features = UserFeaturizer().build_feature_matrix(user_preferences)"
   ]
  },
  {
   "cell_type": "code",
   "execution_count": 4,
   "id": "6f1efa8a-4e6e-4267-9c3c-43b479d477b5",
   "metadata": {},
   "outputs": [],
   "source": [
    "public_user_id_to_research_id = {\n",
    "    user['_id']: i \n",
    "    for i, user in enumerate(data['communities'])\n",
    "}"
   ]
  },
  {
   "cell_type": "code",
   "execution_count": 5,
   "id": "b127310d-6609-482c-a930-a0dbd4a93b92",
   "metadata": {},
   "outputs": [
    {
     "name": "stderr",
     "output_type": "stream",
     "text": [
      "100%|██████████| 116641/116641 [00:02<00:00, 40700.26it/s]\n"
     ]
    }
   ],
   "source": [
    "from src.preprocessing.edge_builder import EdgeBuilder\n",
    "edge_builder = EdgeBuilder(public_user_id_to_research_id)\n",
    "edges = edge_builder.build(data['topology'])"
   ]
  },
  {
   "cell_type": "code",
   "execution_count": 7,
   "id": "65c745c8-d97a-4984-8f24-8e5793996b25",
   "metadata": {},
   "outputs": [
    {
     "name": "stderr",
     "output_type": "stream",
     "text": [
      "100%|██████████| 92153/92153 [00:03<00:00, 24091.25it/s]\n",
      "100%|██████████| 92153/92153 [00:08<00:00, 11241.07it/s]\n"
     ]
    }
   ],
   "source": [
    "from src.preprocessing.community_subscription_matrix_builder import CommunitySubscriptionMatrixBuilder\n",
    "matrix_builder = CommunitySubscriptionMatriBuilder()\n",
    "matrix = matrix_builder.build(data['communities'], public_user_id_to_research_id)"
   ]
  },
  {
   "cell_type": "code",
   "execution_count": 8,
   "id": "5eef575b-7830-4ded-ba51-f395e33390b0",
   "metadata": {},
   "outputs": [
    {
     "data": {
      "text/plain": [
       "array([10, 10,  2,  9,  8,  6,  5], dtype=int32)"
      ]
     },
     "execution_count": 8,
     "metadata": {},
     "output_type": "execute_result"
    }
   ],
   "source": [
    "user_features.categorical.max(axis=0)"
   ]
  },
  {
   "cell_type": "code",
   "execution_count": 9,
   "id": "adb510c4-8d9a-400c-a3c7-70e2069e753f",
   "metadata": {},
   "outputs": [
    {
     "data": {
      "text/plain": [
       "(116641, 7)"
      ]
     },
     "execution_count": 9,
     "metadata": {},
     "output_type": "execute_result"
    }
   ],
   "source": [
    "user_features.categorical.shape"
   ]
  },
  {
   "cell_type": "markdown",
   "id": "0f699944-fdcd-41f2-94f7-388185e2ba33",
   "metadata": {},
   "source": [
    "# pytorch"
   ]
  },
  {
   "cell_type": "code",
   "execution_count": 10,
   "id": "7b223b3f-6085-47e8-ab23-6676399fd77a",
   "metadata": {},
   "outputs": [],
   "source": [
    "from enum import Enum\n",
    "class ConvType(Enum):\n",
    "    gcn = 1\n",
    "    gat = 2\n",
    "    res = 3\n",
    "    gin = 4"
   ]
  },
  {
   "cell_type": "code",
   "execution_count": 59,
   "id": "680e00de-5ecc-49f4-b9a4-1b6b788c864c",
   "metadata": {},
   "outputs": [],
   "source": [
    "import torch\n",
    "from torch.nn import ReLU, Dropout, Embedding\n",
    "from torch_geometric.nn import MLP, Sequential, BatchNorm\n",
    "from torch_geometric.nn.conv import GCNConv, ResGatedGraphConv, GATConv, GINConv\n",
    "\n",
    "class NN(torch.nn.Module):\n",
    "    def __init__(\n",
    "        self,\n",
    "        input_dim: int,\n",
    "        hidden_dim: int,\n",
    "        output_dim: int,\n",
    "        graph_conv: ConvType,\n",
    "        depth: int,\n",
    "        mlp_depth: int,\n",
    "        embeddings: list[int],\n",
    "        use_batchnorm: bool=False,\n",
    "        dropout: float=0,\n",
    "    ):\n",
    "        super().__init__()\n",
    "        self.hidden_dim = hidden_dim\n",
    "        self.use_batchnorm = False\n",
    "        self.dropout = dropout\n",
    "        self.input_mlp = MLP([input_dim,] + [hidden_dim] * mlp_depth, plain_last=False)\n",
    "        self.conv_layers = Sequential(\n",
    "            \"x, edge_index\",\n",
    "            [\n",
    "                self._build_conv_layer(graph_conv)\n",
    "                for _ in range(depth)\n",
    "            ]\n",
    "        )\n",
    "        self.output_mlp = MLP([hidden_dim] * mlp_depth + [output_dim])\n",
    "        self.sigmoid = torch.nn.Sigmoid()\n",
    "        self._build_embeddings(embeddings)\n",
    "        \n",
    "    def _build_conv_layer(self, conv_type: ConvType):\n",
    "        if conv_type == ConvType.gcn:\n",
    "            conv = (\n",
    "                GCNConv(self.hidden_dim, self.hidden_dim),\n",
    "                'x, edge_index -> x',\n",
    "            )\n",
    "        elif conv_type == ConvType.gat:\n",
    "            conv = (\n",
    "                GATConv(self.hidden_dim, self.hidden_dim),\n",
    "                'x, edge_index -> x',\n",
    "            )\n",
    "        elif conv_type == ConvType.res:\n",
    "            conv = (\n",
    "                ResGatedGraphConv(self.hidden_dim, self.hidden_dim),\n",
    "                'x, edge_index -> x',\n",
    "            )\n",
    "        elif conv_type == ConvType.gin:\n",
    "            conv = (\n",
    "                GINConv(MLP([self.hidden_dim, self.hidden_dim], train_eps=True)),\n",
    "                'x, edge_index -> x',\n",
    "            )\n",
    "        else:\n",
    "            raise NotImplementedError()\n",
    "        conv_layer = [conv]\n",
    "        if self.use_batchnorm:\n",
    "            conv_layer.append((BatchNorm(self.hidden_dim), 'x -> x'))\n",
    "        conv_layer.append(ReLU(inplace=True))\n",
    "        if self.dropout is not None:\n",
    "            conv_layer.append((Dropout(p=self.dropout), 'x -> x'))\n",
    "        conv_layer = Sequential(\"x, edge_index\", conv_layer)\n",
    "        return conv\n",
    "    \n",
    "    def _build_embeddings(self, embedding_sizes):\n",
    "        self.city_embedding = Embedding(embedding_sizes[0], embedding_dim=4, scale_grad_by_freq=True)\n",
    "        self.country_embedding = Embedding(embedding_sizes[1], embedding_dim=4, scale_grad_by_freq=True)\n",
    "        self.sex_embedding = Embedding(embedding_sizes[2], embedding_dim=2, scale_grad_by_freq=True)\n",
    "        self.politics_embedding = Embedding(embedding_sizes[3], embedding_dim=4, scale_grad_by_freq=True)\n",
    "        self.life_embedding = Embedding(embedding_sizes[4], embedding_dim=4, scale_grad_by_freq=True)\n",
    "        self.people_embedding = Embedding(embedding_sizes[5], embedding_dim=4, scale_grad_by_freq=True)\n",
    "        self.alcohol_embedding = Embedding(embedding_sizes[6], embedding_dim=4, scale_grad_by_freq=True)\n",
    "        self.embeddings = [\n",
    "            self.city_embedding,\n",
    "            self.country_embedding,\n",
    "            self.sex_embedding,\n",
    "            self.politics_embedding,\n",
    "            self.life_embedding,\n",
    "            self.people_embedding,\n",
    "            self.alcohol_embedding,\n",
    "        ]\n",
    "    \n",
    "    def forward(self, features, edge_index):\n",
    "        x = torch.Tensor(features.numerical)\n",
    "        # numerical_features = torch.Tensor(features.numerical)\n",
    "        # categorical_embeddings = self._extract_embeddings(torch.tensor(features.categorical, dtype=torch.long))\n",
    "        # x = torch.cat([numerical_features, categorical_features], dim=-1)\n",
    "        x = self.input_mlp(x)\n",
    "        x = self.conv_layers(x, edge_index)\n",
    "        x = self.output_mlp(x)\n",
    "        probs = self.sigmoid(x)\n",
    "        return probs\n",
    "    \n",
    "    def _extract_embeddings(self, categorical_features) -> torch.Tensor:\n",
    "        feature_embeds = []\n",
    "        for feature_idx in range(categorical_features.shape[1]):\n",
    "            feature = categorical_features[:, feature_idx]\n",
    "            feature_embed = self.embeddings[feature_idx](feature)\n",
    "            feature_embeds.append(feature_embed)\n",
    "        feature_embeds = torch.cat(feature_embeds, dim=-1)\n",
    "        return feature_embeds"
   ]
  },
  {
   "cell_type": "code",
   "execution_count": 63,
   "id": "ffcdeabe-ebbf-4371-a0a4-75c59e5749da",
   "metadata": {},
   "outputs": [],
   "source": [
    "nn = NN(\n",
    "    input_dim=4,\n",
    "    hidden_dim=10,\n",
    "    output_dim=10,\n",
    "    graph_conv=ConvType.gcn,\n",
    "    depth=3,\n",
    "    mlp_depth=2,\n",
    "    embeddings=user_features.categorical.max(axis=0) + 1,\n",
    ")"
   ]
  },
  {
   "cell_type": "code",
   "execution_count": 69,
   "id": "7acefd92-7cfd-4fb1-812d-727eb27546bd",
   "metadata": {},
   "outputs": [
    {
     "data": {
      "text/plain": [
       "tensor([[0.7273, 0.4393, 0.4939,  ..., 0.2790, 0.2943, 0.5061],\n",
       "        [0.4792, 0.5593, 0.4500,  ..., 0.4454, 0.5442, 0.5247],\n",
       "        [0.6064, 0.4894, 0.4768,  ..., 0.3601, 0.4045, 0.5053],\n",
       "        ...,\n",
       "        [0.5164, 0.6017, 0.4197,  ..., 0.4047, 0.4981, 0.4788],\n",
       "        [0.5442, 0.6064, 0.4262,  ..., 0.3870, 0.5016, 0.4924],\n",
       "        [0.6935, 0.6084, 0.4350,  ..., 0.5555, 0.4004, 0.5845]],\n",
       "       grad_fn=<SigmoidBackward0>)"
      ]
     },
     "execution_count": 69,
     "metadata": {},
     "output_type": "execute_result"
    }
   ],
   "source": [
    "nn(user_features, torch.tensor(edges))"
   ]
  },
  {
   "cell_type": "code",
   "execution_count": null,
   "id": "3b59a7c7-7aa8-4677-aa81-c797218e8f41",
   "metadata": {},
   "outputs": [],
   "source": []
  }
 ],
 "metadata": {
  "kernelspec": {
   "display_name": "Python 3 (ipykernel)",
   "language": "python",
   "name": "python3"
  },
  "language_info": {
   "codemirror_mode": {
    "name": "ipython",
    "version": 3
   },
   "file_extension": ".py",
   "mimetype": "text/x-python",
   "name": "python",
   "nbconvert_exporter": "python",
   "pygments_lexer": "ipython3",
   "version": "3.10.10"
  }
 },
 "nbformat": 4,
 "nbformat_minor": 5
}
