{
 "cells": [
  {
   "cell_type": "code",
   "execution_count": 1,
   "id": "f3659968-9d13-4b43-8a95-f7b459134b2f",
   "metadata": {},
   "outputs": [
    {
     "name": "stderr",
     "output_type": "stream",
     "text": [
      "/home/maxim/.local/lib/python3.10/site-packages/tqdm/auto.py:22: TqdmWarning: IProgress not found. Please update jupyter and ipywidgets. See https://ipywidgets.readthedocs.io/en/stable/user_install.html\n",
      "  from .autonotebook import tqdm as notebook_tqdm\n"
     ]
    }
   ],
   "source": [
    "import json\n",
    "import pandas as pd\n",
    "import tqdm\n",
    "import sklearn\n",
    "\n",
    "from src.scrapped_data_decoders.multi_decoder import MultiDecoder\n",
    "from src.preprocessing.user_featurizer import UserFeaturizer\n",
    "from src.preprocessing.edge_builder import EdgeBuilder\n",
    "from src.preprocessing.community_subscription_matrix_builder import CommunitySubscriptionMatrixBuilder\n",
    "from src.metrics import Metrics, compute_score"
   ]
  },
  {
   "cell_type": "code",
   "execution_count": 2,
   "id": "a4a0b63a-de36-4e4a-9bc7-05b00df1262d",
   "metadata": {},
   "outputs": [],
   "source": [
    "with open(\"mongo_dump.json\") as file:\n",
    "    data = json.load(file)"
   ]
  },
  {
   "cell_type": "code",
   "execution_count": 3,
   "id": "6f1efa8a-4e6e-4267-9c3c-43b479d477b5",
   "metadata": {},
   "outputs": [],
   "source": [
    "user_id_to_ordered_id = {\n",
    "    user['_id']: i \n",
    "    for i, user in enumerate(data['communities'])\n",
    "}"
   ]
  },
  {
   "cell_type": "markdown",
   "id": "b9793e10-87f4-485a-86e1-a06ecb335b84",
   "metadata": {},
   "source": [
    "## Build user features"
   ]
  },
  {
   "cell_type": "code",
   "execution_count": 4,
   "id": "0390bd20-7bab-42ed-aaf4-0c3d19dc110f",
   "metadata": {},
   "outputs": [],
   "source": [
    "user_info = list(filter(lambda user: user['_id'] in user_id_to_ordered_id, data['users']))"
   ]
  },
  {
   "cell_type": "code",
   "execution_count": 5,
   "id": "80631386-78e2-4952-8655-973c943641db",
   "metadata": {},
   "outputs": [],
   "source": [
    "decoder = MultiDecoder()\n",
    "user_preferences = [decoder.decode(user) for user in user_info]\n",
    "user_features = UserFeaturizer().build_feature_matrix(user_preferences, user_id_to_ordered_id)"
   ]
  },
  {
   "cell_type": "markdown",
   "id": "8e47ae7a-1374-47b5-8243-f6364dee20a6",
   "metadata": {},
   "source": [
    "## Build edges between users"
   ]
  },
  {
   "cell_type": "code",
   "execution_count": 6,
   "id": "b127310d-6609-482c-a930-a0dbd4a93b92",
   "metadata": {},
   "outputs": [
    {
     "name": "stderr",
     "output_type": "stream",
     "text": [
      "100%|██████████| 116641/116641 [00:01<00:00, 83603.93it/s]\n"
     ]
    }
   ],
   "source": [
    "edge_builder = EdgeBuilder(user_id_to_ordered_id)\n",
    "edges = edge_builder.build(data['topology'])"
   ]
  },
  {
   "cell_type": "code",
   "execution_count": 7,
   "id": "ba936576-881b-4499-84e2-df5a7b039f08",
   "metadata": {},
   "outputs": [
    {
     "data": {
      "text/plain": [
       "(2, 770052)"
      ]
     },
     "execution_count": 7,
     "metadata": {},
     "output_type": "execute_result"
    }
   ],
   "source": [
    "edges.shape"
   ]
  },
  {
   "cell_type": "code",
   "execution_count": 8,
   "id": "65c745c8-d97a-4984-8f24-8e5793996b25",
   "metadata": {},
   "outputs": [
    {
     "name": "stderr",
     "output_type": "stream",
     "text": [
      "100%|██████████| 92153/92153 [00:01<00:00, 54253.90it/s]\n",
      "100%|██████████| 92153/92153 [00:04<00:00, 19579.94it/s]\n"
     ]
    }
   ],
   "source": [
    "matrix_builder = CommunitySubscriptionMatrixBuilder()\n",
    "matrix = matrix_builder.build(data['communities'], user_id_to_ordered_id)"
   ]
  },
  {
   "cell_type": "markdown",
   "id": "0f699944-fdcd-41f2-94f7-388185e2ba33",
   "metadata": {},
   "source": [
    "## GNN"
   ]
  },
  {
   "cell_type": "code",
   "execution_count": 9,
   "id": "7b223b3f-6085-47e8-ab23-6676399fd77a",
   "metadata": {},
   "outputs": [],
   "source": [
    "from enum import Enum\n",
    "class ConvType(Enum):\n",
    "    gcn = 1\n",
    "    gat = 2\n",
    "    res = 3\n",
    "    gin = 4"
   ]
  },
  {
   "cell_type": "code",
   "execution_count": 10,
   "id": "680e00de-5ecc-49f4-b9a4-1b6b788c864c",
   "metadata": {},
   "outputs": [],
   "source": [
    "import torch\n",
    "from torch.nn import ReLU, Dropout, Embedding\n",
    "from torch_geometric.nn import MLP, Sequential, BatchNorm\n",
    "from torch_geometric.nn.conv import GCNConv, ResGatedGraphConv, GATConv, GINConv\n",
    "\n",
    "class NN(torch.nn.Module):\n",
    "    def __init__(\n",
    "        self,\n",
    "        input_dim: int,\n",
    "        hidden_dim: int,\n",
    "        output_dim: int,\n",
    "        graph_conv: ConvType,\n",
    "        depth: int,\n",
    "        mlp_depth: int,\n",
    "        embeddings: list[int],\n",
    "        use_batchnorm: bool=False,\n",
    "        dropout: float=0,\n",
    "    ):\n",
    "        super().__init__()\n",
    "        self.hidden_dim = hidden_dim\n",
    "        self.embedding_dims = [4, 4, 2, 4, 4, 4, 4]\n",
    "        self.use_batchnorm = False\n",
    "        self.dropout = dropout\n",
    "        self.input_mlp = MLP([input_dim + sum(self.embedding_dims)] + [hidden_dim] * mlp_depth, plain_last=False)\n",
    "        self.conv_layers = Sequential(\n",
    "            \"x, edge_index\",\n",
    "            [\n",
    "                self._build_conv_layer(graph_conv)\n",
    "                for _ in range(depth)\n",
    "            ]\n",
    "        )\n",
    "        self.output_mlp = MLP([hidden_dim] * mlp_depth + [output_dim])\n",
    "        self.sigmoid = torch.nn.Sigmoid()\n",
    "        self._build_embeddings(embeddings)\n",
    "        \n",
    "    def _build_conv_layer(self, conv_type: ConvType):\n",
    "        if conv_type == ConvType.gcn:\n",
    "            conv = (\n",
    "                GCNConv(self.hidden_dim, self.hidden_dim),\n",
    "                'x, edge_index -> x',\n",
    "            )\n",
    "        elif conv_type == ConvType.gat:\n",
    "            conv = (\n",
    "                GATConv(self.hidden_dim, self.hidden_dim),\n",
    "                'x, edge_index -> x',\n",
    "            )\n",
    "        elif conv_type == ConvType.res:\n",
    "            conv = (\n",
    "                ResGatedGraphConv(self.hidden_dim, self.hidden_dim),\n",
    "                'x, edge_index -> x',\n",
    "            )\n",
    "        elif conv_type == ConvType.gin:\n",
    "            conv = (\n",
    "                GINConv(MLP([self.hidden_dim, self.hidden_dim], train_eps=True)),\n",
    "                'x, edge_index -> x',\n",
    "            )\n",
    "        else:\n",
    "            raise NotImplementedError()\n",
    "        conv_layer = [conv]\n",
    "        if self.use_batchnorm:\n",
    "            conv_layer.append((BatchNorm(self.hidden_dim), 'x -> x'))\n",
    "        conv_layer.append(ReLU(inplace=True))\n",
    "        if self.dropout is not None:\n",
    "            conv_layer.append((Dropout(p=self.dropout), 'x -> x'))\n",
    "        conv_layer = Sequential(\"x, edge_index\", conv_layer)\n",
    "        return conv\n",
    "    \n",
    "    def _build_embeddings(self, embedding_sizes):\n",
    "        self.city_embedding = Embedding(embedding_sizes[0], embedding_dim=self.embedding_dims[0], scale_grad_by_freq=True)\n",
    "        self.country_embedding = Embedding(embedding_sizes[1], embedding_dim=self.embedding_dims[1], scale_grad_by_freq=True)\n",
    "        self.sex_embedding = Embedding(embedding_sizes[2], embedding_dim=self.embedding_dims[2], scale_grad_by_freq=True)\n",
    "        self.politics_embedding = Embedding(embedding_sizes[3], embedding_dim=self.embedding_dims[3], scale_grad_by_freq=True)\n",
    "        self.life_embedding = Embedding(embedding_sizes[4], embedding_dim=self.embedding_dims[4], scale_grad_by_freq=True)\n",
    "        self.people_embedding = Embedding(embedding_sizes[5], embedding_dim=self.embedding_dims[5], scale_grad_by_freq=True)\n",
    "        self.alcohol_embedding = Embedding(embedding_sizes[6], embedding_dim=self.embedding_dims[6], scale_grad_by_freq=True)\n",
    "        self.embeddings = [\n",
    "            self.city_embedding,\n",
    "            self.country_embedding,\n",
    "            self.sex_embedding,\n",
    "            self.politics_embedding,\n",
    "            self.life_embedding,\n",
    "            self.people_embedding,\n",
    "            self.alcohol_embedding,\n",
    "        ]\n",
    "    \n",
    "    def forward(self, features, edge_index):\n",
    "        numerical_features = torch.Tensor(features.numerical)\n",
    "        categorical_embeddings = self._extract_embeddings(torch.tensor(features.categorical, dtype=torch.long))\n",
    "        x = torch.cat([numerical_features, categorical_embeddings], dim=-1)\n",
    "        x = self.input_mlp(x)\n",
    "        x = self.conv_layers(x, edge_index)\n",
    "        x = self.output_mlp(x)\n",
    "        probs = self.sigmoid(x)\n",
    "        return probs\n",
    "    \n",
    "    def _extract_embeddings(self, categorical_features) -> torch.Tensor:\n",
    "        feature_embeds = []\n",
    "        for feature_idx in range(categorical_features.shape[1]):\n",
    "            feature = categorical_features[:, feature_idx]\n",
    "            feature_embed = self.embeddings[feature_idx](feature)\n",
    "            feature_embeds.append(feature_embed)\n",
    "        feature_embeds = torch.cat(feature_embeds, dim=-1)\n",
    "        return feature_embeds"
   ]
  },
  {
   "cell_type": "markdown",
   "id": "aaba9813-84ea-403f-9236-0d4c213f8559",
   "metadata": {},
   "source": [
    "# Training"
   ]
  },
  {
   "cell_type": "code",
   "execution_count": 59,
   "id": "ffcdeabe-ebbf-4371-a0a4-75c59e5749da",
   "metadata": {},
   "outputs": [],
   "source": [
    "nn = NN(\n",
    "    input_dim=user_features.numerical.shape[1],\n",
    "    hidden_dim=200,\n",
    "    output_dim=matrix.shape[-1],\n",
    "    graph_conv=ConvType.res,\n",
    "    depth=1,\n",
    "    mlp_depth=2,\n",
    "    embeddings=user_features.categorical.max(axis=0) + 1,\n",
    ")"
   ]
  },
  {
   "cell_type": "code",
   "execution_count": 60,
   "id": "8096a0df-2f1e-4076-89e2-3de6de752943",
   "metadata": {},
   "outputs": [],
   "source": [
    "edge_index = torch.tensor(edges)"
   ]
  },
  {
   "cell_type": "code",
   "execution_count": 61,
   "id": "caf7e612-3206-42b4-a700-56198d103a28",
   "metadata": {},
   "outputs": [
    {
     "data": {
      "text/plain": [
       "0.012672150300767926"
      ]
     },
     "execution_count": 61,
     "metadata": {},
     "output_type": "execute_result"
    }
   ],
   "source": [
    "positive_percent = matrix.mean()\n",
    "positive_percent"
   ]
  },
  {
   "cell_type": "code",
   "execution_count": 62,
   "id": "80b53466-bb18-4ca5-916d-8e9dc1878448",
   "metadata": {},
   "outputs": [],
   "source": [
    "y_true = torch.tensor(matrix, dtype=torch.float)"
   ]
  },
  {
   "cell_type": "code",
   "execution_count": 63,
   "id": "84bd5c6d-5aa2-43ab-a817-68ccf2b0893e",
   "metadata": {},
   "outputs": [],
   "source": [
    "from sklearn.model_selection import train_test_split\n",
    "train_indeces, test_indeces = train_test_split(list(range(len(matrix))))"
   ]
  },
  {
   "cell_type": "code",
   "execution_count": 64,
   "id": "2e6904c1-b48e-4b03-859f-bd044c91398e",
   "metadata": {},
   "outputs": [],
   "source": [
    "def compute_loss(y_true: torch.Tensor, y_pred: torch.Tensor, loss_type: Metrics):\n",
    "    elementwise_loss = torch.nn.functional.binary_cross_entropy(y_pred, y_true, reduction='none')\n",
    "    assert len(elementwise_loss.shape) == 2\n",
    "    with torch.no_grad():\n",
    "        if loss_type == Metrics.columnwise_balanced_accuracy:\n",
    "            positive_to_negative_ratio = y_true.mean(axis=0) / (1 - y_true.mean(axis=0))\n",
    "            positive_coefficients = (y_true > 0.5) / positive_to_negative_ratio\n",
    "            negative_coefficients = (y_true < 0.5) #* positive_to_negative_ratio\n",
    "            coefficients = positive_coefficients + negative_coefficients\n",
    "        elif loss_type == Metrics.balanced_accuracy:\n",
    "            positive_to_negative_ratio = y_true.mean() / (1 - y_true.mean())\n",
    "            positive_coefficients = (y_true > 0.5) / positive_to_negative_ratio\n",
    "            negative_coefficients = (y_true < 0.5) #* positive_to_negative_ratio\n",
    "            coefficients = positive_coefficients + negative_coefficients\n",
    "        else:\n",
    "            raise NotImplementedError()\n",
    "    balanced_loss = elementwise_loss * coefficients\n",
    "    loss = balanced_loss.mean()\n",
    "    return loss"
   ]
  },
  {
   "cell_type": "code",
   "execution_count": 76,
   "id": "2820ef6c-1a94-47a6-a1c0-cca0b8d0f4fa",
   "metadata": {},
   "outputs": [
    {
     "data": {
      "text/plain": [
       "11497"
      ]
     },
     "execution_count": 76,
     "metadata": {},
     "output_type": "execute_result"
    }
   ],
   "source": [
    "test_indeces[2]"
   ]
  },
  {
   "cell_type": "code",
   "execution_count": 65,
   "id": "1550e455-9ccd-4123-a0e8-b9fd4b473435",
   "metadata": {},
   "outputs": [
    {
     "name": "stdout",
     "output_type": "stream",
     "text": [
      "Train score 0.501526799599685\n",
      "Train loss 1.4030890464782715\n",
      "Test score 0.5199558577332363\n",
      "----\n",
      "Train score 0.5215136423844995\n",
      "Train loss 1.3790507316589355\n",
      "Test score 0.5329579669976603\n",
      "----\n",
      "Train score 0.5342341102111383\n",
      "Train loss 1.367807388305664\n",
      "Test score 0.5443956082090738\n",
      "----\n",
      "Train score 0.5464865288803594\n",
      "Train loss 1.359178900718689\n",
      "Test score 0.5539553381564494\n",
      "----\n",
      "Train score 0.5559397856929721\n",
      "Train loss 1.3519244194030762\n",
      "Test score 0.5641842037742234\n",
      "----\n",
      "Train score 0.5657480849076028\n",
      "Train loss 1.3451318740844727\n",
      "Test score 0.5737884837129332\n",
      "----\n",
      "Train score 0.5747792326819688\n",
      "Train loss 1.3384828567504883\n",
      "Test score 0.582034007834216\n",
      "----\n",
      "Train score 0.5833871803853435\n",
      "Train loss 1.3317434787750244\n",
      "Test score 0.5901898660369068\n",
      "----\n",
      "Train score 0.5909873549458116\n",
      "Train loss 1.325021505355835\n",
      "Test score 0.596957442777514\n",
      "----\n",
      "Train score 0.5983454434794915\n",
      "Train loss 1.3175126314163208\n",
      "Test score 0.6044243046849676\n",
      "----\n",
      "Train score 0.6064505060514446\n",
      "Train loss 1.3093891143798828\n",
      "Test score 0.6132394277571419\n",
      "----\n",
      "Train score 0.6150624194645335\n",
      "Train loss 1.3003122806549072\n",
      "Test score 0.6197600639830372\n",
      "----\n",
      "Train score 0.622613193388103\n",
      "Train loss 1.2909983396530151\n",
      "Test score 0.6278466108027747\n",
      "----\n",
      "Train score 0.6301543172371387\n",
      "Train loss 1.2804204225540161\n",
      "Test score 0.6345292193468643\n",
      "----\n",
      "Train score 0.63728311363861\n",
      "Train loss 1.2694987058639526\n",
      "Test score 0.6417520732169064\n",
      "----\n",
      "Train score 0.6443180838847133\n",
      "Train loss 1.257918357849121\n",
      "Test score 0.6488017990602035\n",
      "----\n",
      "Train score 0.6521391220514425\n",
      "Train loss 1.2454882860183716\n",
      "Test score 0.6568475007738317\n",
      "----\n",
      "Train score 0.6600070145879513\n",
      "Train loss 1.233046293258667\n",
      "Test score 0.6645565089248674\n",
      "----\n",
      "Train score 0.667941378938854\n",
      "Train loss 1.2199221849441528\n",
      "Test score 0.6723287876952323\n",
      "----\n",
      "Train score 0.6759498136112224\n",
      "Train loss 1.2059412002563477\n",
      "Test score 0.6796897088674966\n",
      "----\n",
      "Train score 0.6838202530452734\n",
      "Train loss 1.1910566091537476\n",
      "Test score 0.6869314423130061\n",
      "----\n",
      "Train score 0.6903590285310024\n",
      "Train loss 1.1764296293258667\n",
      "Test score 0.6911529416069672\n",
      "----\n",
      "Train score 0.6951340383467058\n",
      "Train loss 1.1631851196289062\n",
      "Test score 0.6979418247648745\n",
      "----\n",
      "Train score 0.7010797497977623\n",
      "Train loss 1.1510164737701416\n",
      "Test score 0.7033717234801774\n",
      "----\n",
      "Train score 0.7077471324244748\n",
      "Train loss 1.1371625661849976\n",
      "Test score 0.7081457189386084\n",
      "----\n",
      "Train score 0.7129449169931774\n",
      "Train loss 1.1235432624816895\n",
      "Test score 0.7107522758184853\n",
      "----\n",
      "Train score 0.7153039449980441\n",
      "Train loss 1.1131237745285034\n",
      "Test score 0.7154481920141654\n",
      "----\n",
      "Train score 0.7212403426433346\n",
      "Train loss 1.1042075157165527\n",
      "Test score 0.7176682345671107\n",
      "----\n",
      "Train score 0.7226267534683722\n",
      "Train loss 1.0908409357070923\n",
      "Test score 0.7214537142367413\n",
      "----\n"
     ]
    },
    {
     "ename": "KeyboardInterrupt",
     "evalue": "",
     "output_type": "error",
     "traceback": [
      "\u001b[0;31m---------------------------------------------------------------------------\u001b[0m",
      "\u001b[0;31mKeyboardInterrupt\u001b[0m                         Traceback (most recent call last)",
      "Cell \u001b[0;32mIn[65], line 13\u001b[0m\n\u001b[1;32m     11\u001b[0m train_loss\u001b[38;5;241m.\u001b[39mbackward()\n\u001b[1;32m     12\u001b[0m optimizer\u001b[38;5;241m.\u001b[39mstep()\n\u001b[0;32m---> 13\u001b[0m score \u001b[38;5;241m=\u001b[39m \u001b[43mcompute_score\u001b[49m\u001b[43m(\u001b[49m\u001b[43my_true\u001b[49m\u001b[43m[\u001b[49m\u001b[43mtrain_indeces\u001b[49m\u001b[43m]\u001b[49m\u001b[43m,\u001b[49m\u001b[43m \u001b[49m\u001b[43my_pred\u001b[49m\u001b[43m[\u001b[49m\u001b[43mtrain_indeces\u001b[49m\u001b[43m]\u001b[49m\u001b[38;5;241;43m.\u001b[39;49m\u001b[43mdetach\u001b[49m\u001b[43m(\u001b[49m\u001b[43m)\u001b[49m\u001b[43m,\u001b[49m\u001b[43m \u001b[49m\u001b[43mscore_type\u001b[49m\u001b[43m)\u001b[49m\n\u001b[1;32m     14\u001b[0m \u001b[38;5;28mprint\u001b[39m(\u001b[38;5;124m\"\u001b[39m\u001b[38;5;124mTrain score\u001b[39m\u001b[38;5;124m\"\u001b[39m, score)\n\u001b[1;32m     15\u001b[0m \u001b[38;5;28mprint\u001b[39m(\u001b[38;5;124m\"\u001b[39m\u001b[38;5;124mTrain loss\u001b[39m\u001b[38;5;124m\"\u001b[39m, train_loss\u001b[38;5;241m.\u001b[39mdetach()\u001b[38;5;241m.\u001b[39mitem())\n",
      "File \u001b[0;32m~/thesis/src/metrics/compute_score.py:11\u001b[0m, in \u001b[0;36mcompute_score\u001b[0;34m(y_true, y_pred, metric)\u001b[0m\n\u001b[1;32m      9\u001b[0m     \u001b[38;5;28;01mreturn\u001b[39;00m compute_balanced_accuracy(y_true, y_pred)\n\u001b[1;32m     10\u001b[0m \u001b[38;5;28;01melif\u001b[39;00m metric \u001b[38;5;241m==\u001b[39m Metrics\u001b[38;5;241m.\u001b[39mcolumnwise_balanced_accuracy:\n\u001b[0;32m---> 11\u001b[0m     \u001b[38;5;28;01mreturn\u001b[39;00m \u001b[43mcompute_columnwise_balanced_accuracy\u001b[49m\u001b[43m(\u001b[49m\u001b[43my_true\u001b[49m\u001b[43m,\u001b[49m\u001b[43m \u001b[49m\u001b[43my_pred\u001b[49m\u001b[43m)\u001b[49m\n\u001b[1;32m     12\u001b[0m \u001b[38;5;28;01melse\u001b[39;00m:\n\u001b[1;32m     13\u001b[0m     \u001b[38;5;28;01mraise\u001b[39;00m \u001b[38;5;167;01mNotImplementedError\u001b[39;00m()\n",
      "File \u001b[0;32m~/thesis/src/metrics/compute_columnwise_balanced_accuracy_score.py:8\u001b[0m, in \u001b[0;36mcompute_columnwise_balanced_accuracy\u001b[0;34m(y_true, y_pred)\u001b[0m\n\u001b[1;32m      6\u001b[0m accuracies \u001b[38;5;241m=\u001b[39m []\n\u001b[1;32m      7\u001b[0m \u001b[38;5;28;01mfor\u001b[39;00m col_idx \u001b[38;5;129;01min\u001b[39;00m \u001b[38;5;28mrange\u001b[39m(y_true\u001b[38;5;241m.\u001b[39mshape[\u001b[38;5;241m1\u001b[39m]):\n\u001b[0;32m----> 8\u001b[0m     accuracy \u001b[38;5;241m=\u001b[39m \u001b[43mbalanced_accuracy_score\u001b[49m\u001b[43m(\u001b[49m\n\u001b[1;32m      9\u001b[0m \u001b[43m        \u001b[49m\u001b[43my_true\u001b[49m\u001b[43m[\u001b[49m\u001b[43m:\u001b[49m\u001b[43m,\u001b[49m\u001b[43m \u001b[49m\u001b[43mcol_idx\u001b[49m\u001b[43m]\u001b[49m\u001b[43m \u001b[49m\u001b[38;5;241;43m>\u001b[39;49m\u001b[43m \u001b[49m\u001b[38;5;241;43m0.5\u001b[39;49m\u001b[43m,\u001b[49m\u001b[43m \u001b[49m\n\u001b[1;32m     10\u001b[0m \u001b[43m        \u001b[49m\u001b[43my_pred\u001b[49m\u001b[43m[\u001b[49m\u001b[43m:\u001b[49m\u001b[43m,\u001b[49m\u001b[43m \u001b[49m\u001b[43mcol_idx\u001b[49m\u001b[43m]\u001b[49m\u001b[43m \u001b[49m\u001b[38;5;241;43m>\u001b[39;49m\u001b[43m \u001b[49m\u001b[38;5;241;43m0.5\u001b[39;49m\u001b[43m,\u001b[49m\n\u001b[1;32m     11\u001b[0m \u001b[43m    \u001b[49m\u001b[43m)\u001b[49m\n\u001b[1;32m     12\u001b[0m     accuracies\u001b[38;5;241m.\u001b[39mappend(accuracy)\n\u001b[1;32m     13\u001b[0m \u001b[38;5;28;01mreturn\u001b[39;00m np\u001b[38;5;241m.\u001b[39mmean(accuracies)\n",
      "File \u001b[0;32m~/.local/lib/python3.10/site-packages/sklearn/metrics/_classification.py:1983\u001b[0m, in \u001b[0;36mbalanced_accuracy_score\u001b[0;34m(y_true, y_pred, sample_weight, adjusted)\u001b[0m\n\u001b[1;32m   1914\u001b[0m \u001b[38;5;28;01mdef\u001b[39;00m \u001b[38;5;21mbalanced_accuracy_score\u001b[39m(y_true, y_pred, \u001b[38;5;241m*\u001b[39m, sample_weight\u001b[38;5;241m=\u001b[39m\u001b[38;5;28;01mNone\u001b[39;00m, adjusted\u001b[38;5;241m=\u001b[39m\u001b[38;5;28;01mFalse\u001b[39;00m):\n\u001b[1;32m   1915\u001b[0m \u001b[38;5;250m    \u001b[39m\u001b[38;5;124;03m\"\"\"Compute the balanced accuracy.\u001b[39;00m\n\u001b[1;32m   1916\u001b[0m \n\u001b[1;32m   1917\u001b[0m \u001b[38;5;124;03m    The balanced accuracy in binary and multiclass classification problems to\u001b[39;00m\n\u001b[0;32m   (...)\u001b[0m\n\u001b[1;32m   1981\u001b[0m \u001b[38;5;124;03m    0.625\u001b[39;00m\n\u001b[1;32m   1982\u001b[0m \u001b[38;5;124;03m    \"\"\"\u001b[39;00m\n\u001b[0;32m-> 1983\u001b[0m     C \u001b[38;5;241m=\u001b[39m \u001b[43mconfusion_matrix\u001b[49m\u001b[43m(\u001b[49m\u001b[43my_true\u001b[49m\u001b[43m,\u001b[49m\u001b[43m \u001b[49m\u001b[43my_pred\u001b[49m\u001b[43m,\u001b[49m\u001b[43m \u001b[49m\u001b[43msample_weight\u001b[49m\u001b[38;5;241;43m=\u001b[39;49m\u001b[43msample_weight\u001b[49m\u001b[43m)\u001b[49m\n\u001b[1;32m   1984\u001b[0m     \u001b[38;5;28;01mwith\u001b[39;00m np\u001b[38;5;241m.\u001b[39merrstate(divide\u001b[38;5;241m=\u001b[39m\u001b[38;5;124m\"\u001b[39m\u001b[38;5;124mignore\u001b[39m\u001b[38;5;124m\"\u001b[39m, invalid\u001b[38;5;241m=\u001b[39m\u001b[38;5;124m\"\u001b[39m\u001b[38;5;124mignore\u001b[39m\u001b[38;5;124m\"\u001b[39m):\n\u001b[1;32m   1985\u001b[0m         per_class \u001b[38;5;241m=\u001b[39m np\u001b[38;5;241m.\u001b[39mdiag(C) \u001b[38;5;241m/\u001b[39m C\u001b[38;5;241m.\u001b[39msum(axis\u001b[38;5;241m=\u001b[39m\u001b[38;5;241m1\u001b[39m)\n",
      "File \u001b[0;32m~/.local/lib/python3.10/site-packages/sklearn/metrics/_classification.py:312\u001b[0m, in \u001b[0;36mconfusion_matrix\u001b[0;34m(y_true, y_pred, labels, sample_weight, normalize)\u001b[0m\n\u001b[1;32m    309\u001b[0m     \u001b[38;5;28;01mraise\u001b[39;00m \u001b[38;5;167;01mValueError\u001b[39;00m(\u001b[38;5;124m\"\u001b[39m\u001b[38;5;132;01m%s\u001b[39;00m\u001b[38;5;124m is not supported\u001b[39m\u001b[38;5;124m\"\u001b[39m \u001b[38;5;241m%\u001b[39m y_type)\n\u001b[1;32m    311\u001b[0m \u001b[38;5;28;01mif\u001b[39;00m labels \u001b[38;5;129;01mis\u001b[39;00m \u001b[38;5;28;01mNone\u001b[39;00m:\n\u001b[0;32m--> 312\u001b[0m     labels \u001b[38;5;241m=\u001b[39m \u001b[43munique_labels\u001b[49m\u001b[43m(\u001b[49m\u001b[43my_true\u001b[49m\u001b[43m,\u001b[49m\u001b[43m \u001b[49m\u001b[43my_pred\u001b[49m\u001b[43m)\u001b[49m\n\u001b[1;32m    313\u001b[0m \u001b[38;5;28;01melse\u001b[39;00m:\n\u001b[1;32m    314\u001b[0m     labels \u001b[38;5;241m=\u001b[39m np\u001b[38;5;241m.\u001b[39masarray(labels)\n",
      "File \u001b[0;32m~/.local/lib/python3.10/site-packages/sklearn/utils/multiclass.py:75\u001b[0m, in \u001b[0;36munique_labels\u001b[0;34m(*ys)\u001b[0m\n\u001b[1;32m     72\u001b[0m     \u001b[38;5;28;01mraise\u001b[39;00m \u001b[38;5;167;01mValueError\u001b[39;00m(\u001b[38;5;124m\"\u001b[39m\u001b[38;5;124mNo argument has been passed.\u001b[39m\u001b[38;5;124m\"\u001b[39m)\n\u001b[1;32m     73\u001b[0m \u001b[38;5;66;03m# Check that we don't mix label format\u001b[39;00m\n\u001b[0;32m---> 75\u001b[0m ys_types \u001b[38;5;241m=\u001b[39m \u001b[38;5;28;43mset\u001b[39;49m\u001b[43m(\u001b[49m\u001b[43mtype_of_target\u001b[49m\u001b[43m(\u001b[49m\u001b[43mx\u001b[49m\u001b[43m)\u001b[49m\u001b[43m \u001b[49m\u001b[38;5;28;43;01mfor\u001b[39;49;00m\u001b[43m \u001b[49m\u001b[43mx\u001b[49m\u001b[43m \u001b[49m\u001b[38;5;129;43;01min\u001b[39;49;00m\u001b[43m \u001b[49m\u001b[43mys\u001b[49m\u001b[43m)\u001b[49m\n\u001b[1;32m     76\u001b[0m \u001b[38;5;28;01mif\u001b[39;00m ys_types \u001b[38;5;241m==\u001b[39m {\u001b[38;5;124m\"\u001b[39m\u001b[38;5;124mbinary\u001b[39m\u001b[38;5;124m\"\u001b[39m, \u001b[38;5;124m\"\u001b[39m\u001b[38;5;124mmulticlass\u001b[39m\u001b[38;5;124m\"\u001b[39m}:\n\u001b[1;32m     77\u001b[0m     ys_types \u001b[38;5;241m=\u001b[39m {\u001b[38;5;124m\"\u001b[39m\u001b[38;5;124mmulticlass\u001b[39m\u001b[38;5;124m\"\u001b[39m}\n",
      "File \u001b[0;32m~/.local/lib/python3.10/site-packages/sklearn/utils/multiclass.py:75\u001b[0m, in \u001b[0;36m<genexpr>\u001b[0;34m(.0)\u001b[0m\n\u001b[1;32m     72\u001b[0m     \u001b[38;5;28;01mraise\u001b[39;00m \u001b[38;5;167;01mValueError\u001b[39;00m(\u001b[38;5;124m\"\u001b[39m\u001b[38;5;124mNo argument has been passed.\u001b[39m\u001b[38;5;124m\"\u001b[39m)\n\u001b[1;32m     73\u001b[0m \u001b[38;5;66;03m# Check that we don't mix label format\u001b[39;00m\n\u001b[0;32m---> 75\u001b[0m ys_types \u001b[38;5;241m=\u001b[39m \u001b[38;5;28mset\u001b[39m(\u001b[43mtype_of_target\u001b[49m\u001b[43m(\u001b[49m\u001b[43mx\u001b[49m\u001b[43m)\u001b[49m \u001b[38;5;28;01mfor\u001b[39;00m x \u001b[38;5;129;01min\u001b[39;00m ys)\n\u001b[1;32m     76\u001b[0m \u001b[38;5;28;01mif\u001b[39;00m ys_types \u001b[38;5;241m==\u001b[39m {\u001b[38;5;124m\"\u001b[39m\u001b[38;5;124mbinary\u001b[39m\u001b[38;5;124m\"\u001b[39m, \u001b[38;5;124m\"\u001b[39m\u001b[38;5;124mmulticlass\u001b[39m\u001b[38;5;124m\"\u001b[39m}:\n\u001b[1;32m     77\u001b[0m     ys_types \u001b[38;5;241m=\u001b[39m {\u001b[38;5;124m\"\u001b[39m\u001b[38;5;124mmulticlass\u001b[39m\u001b[38;5;124m\"\u001b[39m}\n",
      "File \u001b[0;32m~/.local/lib/python3.10/site-packages/sklearn/utils/multiclass.py:327\u001b[0m, in \u001b[0;36mtype_of_target\u001b[0;34m(y)\u001b[0m\n\u001b[1;32m    324\u001b[0m     _assert_all_finite(y)\n\u001b[1;32m    325\u001b[0m     \u001b[38;5;28;01mreturn\u001b[39;00m \u001b[38;5;124m\"\u001b[39m\u001b[38;5;124mcontinuous\u001b[39m\u001b[38;5;124m\"\u001b[39m \u001b[38;5;241m+\u001b[39m suffix\n\u001b[0;32m--> 327\u001b[0m \u001b[38;5;28;01mif\u001b[39;00m (\u001b[38;5;28mlen\u001b[39m(\u001b[43mnp\u001b[49m\u001b[38;5;241;43m.\u001b[39;49m\u001b[43munique\u001b[49m\u001b[43m(\u001b[49m\u001b[43my\u001b[49m\u001b[43m)\u001b[49m) \u001b[38;5;241m>\u001b[39m \u001b[38;5;241m2\u001b[39m) \u001b[38;5;129;01mor\u001b[39;00m (y\u001b[38;5;241m.\u001b[39mndim \u001b[38;5;241m>\u001b[39m\u001b[38;5;241m=\u001b[39m \u001b[38;5;241m2\u001b[39m \u001b[38;5;129;01mand\u001b[39;00m \u001b[38;5;28mlen\u001b[39m(y[\u001b[38;5;241m0\u001b[39m]) \u001b[38;5;241m>\u001b[39m \u001b[38;5;241m1\u001b[39m):\n\u001b[1;32m    328\u001b[0m     \u001b[38;5;28;01mreturn\u001b[39;00m \u001b[38;5;124m\"\u001b[39m\u001b[38;5;124mmulticlass\u001b[39m\u001b[38;5;124m\"\u001b[39m \u001b[38;5;241m+\u001b[39m suffix  \u001b[38;5;66;03m# [1, 2, 3] or [[1., 2., 3]] or [[1, 2]]\u001b[39;00m\n\u001b[1;32m    329\u001b[0m \u001b[38;5;28;01melse\u001b[39;00m:\n",
      "File \u001b[0;32m<__array_function__ internals>:5\u001b[0m, in \u001b[0;36munique\u001b[0;34m(*args, **kwargs)\u001b[0m\n",
      "File \u001b[0;32m~/.local/lib/python3.10/site-packages/numpy/lib/arraysetops.py:272\u001b[0m, in \u001b[0;36munique\u001b[0;34m(ar, return_index, return_inverse, return_counts, axis)\u001b[0m\n\u001b[1;32m    270\u001b[0m ar \u001b[38;5;241m=\u001b[39m np\u001b[38;5;241m.\u001b[39masanyarray(ar)\n\u001b[1;32m    271\u001b[0m \u001b[38;5;28;01mif\u001b[39;00m axis \u001b[38;5;129;01mis\u001b[39;00m \u001b[38;5;28;01mNone\u001b[39;00m:\n\u001b[0;32m--> 272\u001b[0m     ret \u001b[38;5;241m=\u001b[39m \u001b[43m_unique1d\u001b[49m\u001b[43m(\u001b[49m\u001b[43mar\u001b[49m\u001b[43m,\u001b[49m\u001b[43m \u001b[49m\u001b[43mreturn_index\u001b[49m\u001b[43m,\u001b[49m\u001b[43m \u001b[49m\u001b[43mreturn_inverse\u001b[49m\u001b[43m,\u001b[49m\u001b[43m \u001b[49m\u001b[43mreturn_counts\u001b[49m\u001b[43m)\u001b[49m\n\u001b[1;32m    273\u001b[0m     \u001b[38;5;28;01mreturn\u001b[39;00m _unpack_tuple(ret)\n\u001b[1;32m    275\u001b[0m \u001b[38;5;66;03m# axis was specified and not None\u001b[39;00m\n",
      "File \u001b[0;32m~/.local/lib/python3.10/site-packages/numpy/lib/arraysetops.py:333\u001b[0m, in \u001b[0;36m_unique1d\u001b[0;34m(ar, return_index, return_inverse, return_counts)\u001b[0m\n\u001b[1;32m    331\u001b[0m     aux \u001b[38;5;241m=\u001b[39m ar[perm]\n\u001b[1;32m    332\u001b[0m \u001b[38;5;28;01melse\u001b[39;00m:\n\u001b[0;32m--> 333\u001b[0m     \u001b[43mar\u001b[49m\u001b[38;5;241;43m.\u001b[39;49m\u001b[43msort\u001b[49m\u001b[43m(\u001b[49m\u001b[43m)\u001b[49m\n\u001b[1;32m    334\u001b[0m     aux \u001b[38;5;241m=\u001b[39m ar\n\u001b[1;32m    335\u001b[0m mask \u001b[38;5;241m=\u001b[39m np\u001b[38;5;241m.\u001b[39mempty(aux\u001b[38;5;241m.\u001b[39mshape, dtype\u001b[38;5;241m=\u001b[39mnp\u001b[38;5;241m.\u001b[39mbool_)\n",
      "\u001b[0;31mKeyboardInterrupt\u001b[0m: "
     ]
    }
   ],
   "source": [
    "from torch.optim import Adam\n",
    "N_EPOCHS = 1000\n",
    "score_type = Metrics.columnwise_balanced_accuracy\n",
    "optimizer = Adam(nn.parameters())\n",
    "# compute_loss = torch.nn.BCELoss(reduction='none')\n",
    "for _ in range(N_EPOCHS):\n",
    "    # train\n",
    "    y_pred = nn(user_features, edge_index)\n",
    "    train_loss = compute_loss(y_true[train_indeces], y_pred[train_indeces], score_type)\n",
    "    optimizer.zero_grad()\n",
    "    train_loss.backward()\n",
    "    optimizer.step()\n",
    "    score = compute_score(y_true[train_indeces], y_pred[train_indeces].detach(), score_type)\n",
    "    print(\"Train score\", score)\n",
    "    print(\"Train loss\", train_loss.detach().item())\n",
    "    \n",
    "    # test\n",
    "    with torch.no_grad():\n",
    "        y_pred = nn(user_features, edge_index)\n",
    "        # unbalanced_loss = compute_loss(y_pred, y_true)\n",
    "        # positive_coefs = (y_true > 0.5) / positive_percent\n",
    "        # negative_coefs = (y_true < 0.5) \n",
    "        # coefs = positive_coefs + negative_coefs\n",
    "        # balanced_loss = (unbalanced_loss * coefs)\n",
    "        # test_loss = (balanced_loss[test_indeces]).mean()\n",
    "        score = compute_score(y_true[test_indeces], y_pred[test_indeces].detach(), score_type)\n",
    "    print(\"Test score\", score)\n",
    "    # print(\"Test loss\", test_loss.detach().item())\n",
    "    print(\"----\")"
   ]
  },
  {
   "cell_type": "code",
   "execution_count": null,
   "id": "dbbc1b08-baaa-4d85-908f-fe7c702f4177",
   "metadata": {},
   "outputs": [],
   "source": [
    "y_pred.detach().numpy().reshape(-1).max()"
   ]
  }
 ],
 "metadata": {
  "kernelspec": {
   "display_name": "thesis",
   "language": "python",
   "name": "thesis"
  },
  "language_info": {
   "codemirror_mode": {
    "name": "ipython",
    "version": 3
   },
   "file_extension": ".py",
   "mimetype": "text/x-python",
   "name": "python",
   "nbconvert_exporter": "python",
   "pygments_lexer": "ipython3",
   "version": "3.10.11"
  }
 },
 "nbformat": 4,
 "nbformat_minor": 5
}
