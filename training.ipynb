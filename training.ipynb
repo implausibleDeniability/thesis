{
 "cells": [
  {
   "cell_type": "code",
   "execution_count": 72,
   "id": "f3659968-9d13-4b43-8a95-f7b459134b2f",
   "metadata": {},
   "outputs": [],
   "source": [
    "import json\n",
    "# with open(\"mongo_dump.json\") as file:\n",
    "    # data = json.load(file)"
   ]
  },
  {
   "cell_type": "code",
   "execution_count": 89,
   "id": "0658e60f-60c5-4c01-a65c-0ed1d9e4850b",
   "metadata": {},
   "outputs": [],
   "source": [
    "with open(\"users.json\", 'w') as file:\n",
    "    json.dump({\"users\": data[\"users\"]}, file)\n",
    "with open(\"topology.json\", 'w') as file:\n",
    "    json.dump({\"topology\": data[\"topology\"]}, file)\n",
    "with open(\"communities_sample.json\", \"w\") as file:\n",
    "    json.dump({\"communities\": data[\"communities\"][:1000]}, file)"
   ]
  },
  {
   "cell_type": "code",
   "execution_count": 75,
   "id": "a4a0b63a-de36-4e4a-9bc7-05b00df1262d",
   "metadata": {},
   "outputs": [],
   "source": [
    "import pandas as pd\n",
    "import tqdm\n",
    "from src.scrapped_data_decoders.multi_decoder import MultiDecoder\n",
    "from src.preprocessing.user_featurizer import UserFeaturizer"
   ]
  },
  {
   "cell_type": "code",
   "execution_count": 46,
   "id": "80631386-78e2-4952-8655-973c943641db",
   "metadata": {},
   "outputs": [],
   "source": [
    "decoder = MultiDecoder()\n",
    "user_preferences = [decoder.decode(user) for user in data['users']]\n",
    "user_features = UserFeaturizer().build_feature_matrix(user_preferences)"
   ]
  },
  {
   "cell_type": "code",
   "execution_count": 66,
   "id": "b127310d-6609-482c-a930-a0dbd4a93b92",
   "metadata": {},
   "outputs": [
    {
     "name": "stderr",
     "output_type": "stream",
     "text": [
      "100%|██████████████████████████████████████████████████████████████████████████████████████████████████████████████████████████████████████████████████████████████████████| 116641/116641 [00:03<00:00, 30056.35it/s]\n"
     ]
    }
   ],
   "source": [
    "edge_builder = EdgeBuilder(public_user_id_to_research_id)\n",
    "edges = edge_builder.build(data['topology'])"
   ]
  },
  {
   "cell_type": "code",
   "execution_count": 52,
   "id": "6f1efa8a-4e6e-4267-9c3c-43b479d477b5",
   "metadata": {},
   "outputs": [],
   "source": [
    "public_user_id_to_research_id = {\n",
    "    user['id']: i \n",
    "    for i, user in enumerate(data['users'])\n",
    "}"
   ]
  },
  {
   "cell_type": "markdown",
   "id": "a92a9a92-b151-4194-b0b0-ce6a8c372c62",
   "metadata": {},
   "source": [
    "# extract top 100 communities"
   ]
  },
  {
   "cell_type": "code",
   "execution_count": null,
   "id": "5bde6f9d-cbae-402d-98af-b619d0c4ec5b",
   "metadata": {},
   "outputs": [],
   "source": [
    "from src.preprocessing.extract_top_n_communities import extract_top_n_communities\n",
    "top_n_communities = extract_top_n_communities(data['communities'])"
   ]
  },
  {
   "cell_type": "code",
   "execution_count": 1,
   "id": "e1c56ff5-9b69-42cf-bf27-9027923b170a",
   "metadata": {},
   "outputs": [
    {
     "ename": "SyntaxError",
     "evalue": "expected ':' (2212016115.py, line 2)",
     "output_type": "error",
     "traceback": [
      "\u001b[0;36m  Cell \u001b[0;32mIn[1], line 2\u001b[0;36m\u001b[0m\n\u001b[0;31m    def build(self, communities: dict, user_ids: list[int], top_n: int=200) -> np.ndarray\u001b[0m\n\u001b[0m                                                                                         ^\u001b[0m\n\u001b[0;31mSyntaxError\u001b[0m\u001b[0;31m:\u001b[0m expected ':'\n"
     ]
    }
   ],
   "source": [
    "class CommunitySubscriptionMatrixBuilder:\n",
    "    def build(self, communities: dict, user_ids: list[int], top_n: int=200) -> np.ndarray\n",
    "        top_n_communities = extract_top_n_communities(communities, top_n)\n",
    "        user_id2community_list = self._build_user_id2community_list(communities)\n",
    "        community_binary_matrix = np.zeros(len(user_ids), len(top_n_communities))\n",
    "        for i, user_id in user_ids:\n",
    "            for j, community_id in enumerate(top_n_communities):\n",
    "                if community_id in user_id2community_list[user_id]:\n",
    "                    community_binary_matrix[i, j] = 1\n",
    "        return community_binary_matrix\n",
    "                                                \n",
    "    def _build_user_id2community_list(self, communities: dict) -> dict[int, list]:\n",
    "        user_id2community_list = {\n",
    "            user_description['_id']: user_description['communities'] for user_description in communities_unprocessed\n",
    "        }\n",
    "        return user_id2community_list"
   ]
  },
  {
   "cell_type": "code",
   "execution_count": null,
   "id": "52c7c358-a070-4155-b74e-34031dc3279d",
   "metadata": {},
   "outputs": [],
   "source": [
    "# community_binary_vector_construction\n",
    "user_vectors = {\n",
    "    user_id: np.array(\n",
    "        [community_freq[0] in user_id2community_list[user_id] for community_freq in top200_communities],\n",
    "    )\n",
    "    for user_id in user_id2community_list.keys()\n",
    "}\n",
    "    "
   ]
  }
 ],
 "metadata": {
  "kernelspec": {
   "display_name": "Python 3 (ipykernel)",
   "language": "python",
   "name": "python3"
  },
  "language_info": {
   "codemirror_mode": {
    "name": "ipython",
    "version": 3
   },
   "file_extension": ".py",
   "mimetype": "text/x-python",
   "name": "python",
   "nbconvert_exporter": "python",
   "pygments_lexer": "ipython3",
   "version": "3.10.10"
  }
 },
 "nbformat": 4,
 "nbformat_minor": 5
}
