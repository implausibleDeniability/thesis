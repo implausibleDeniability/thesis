{
 "cells": [
  {
   "cell_type": "code",
   "execution_count": 1,
   "id": "f3659968-9d13-4b43-8a95-f7b459134b2f",
   "metadata": {},
   "outputs": [
    {
     "name": "stderr",
     "output_type": "stream",
     "text": [
      "/home/maxim/.local/lib/python3.10/site-packages/tqdm/auto.py:22: TqdmWarning: IProgress not found. Please update jupyter and ipywidgets. See https://ipywidgets.readthedocs.io/en/stable/user_install.html\n",
      "  from .autonotebook import tqdm as notebook_tqdm\n"
     ]
    }
   ],
   "source": [
    "import json\n",
    "import numpy as np\n",
    "import pandas as pd\n",
    "import tqdm\n",
    "import sklearn\n",
    "import wandb\n",
    "from sklearn.model_selection import KFold\n",
    "\n",
    "import torch\n",
    "from torch.optim import Adam\n",
    "\n",
    "from src.scrapped_data_decoders.multi_decoder import MultiDecoder\n",
    "from src.preprocessing.user_featurizer import UserFeaturizer\n",
    "from src.preprocessing.edge_builder import EdgeBuilder\n",
    "from src.preprocessing.community_subscription_matrix_builder import CommunitySubscriptionMatrixBuilder\n",
    "from src.metrics import Metrics, compute_score\n",
    "from src.losses import Loss\n",
    "from src.gnn import GNN, ConvType"
   ]
  },
  {
   "cell_type": "code",
   "execution_count": 2,
   "id": "a4a0b63a-de36-4e4a-9bc7-05b00df1262d",
   "metadata": {},
   "outputs": [],
   "source": [
    "with open(\"mongo_dump.json\") as file:\n",
    "    data = json.load(file)"
   ]
  },
  {
   "cell_type": "code",
   "execution_count": 3,
   "id": "6f1efa8a-4e6e-4267-9c3c-43b479d477b5",
   "metadata": {},
   "outputs": [],
   "source": [
    "user_id_to_ordered_id = {\n",
    "    user['_id']: i \n",
    "    for i, user in enumerate(data['communities'])\n",
    "}"
   ]
  },
  {
   "cell_type": "markdown",
   "id": "b9793e10-87f4-485a-86e1-a06ecb335b84",
   "metadata": {},
   "source": [
    "## Build user features"
   ]
  },
  {
   "cell_type": "code",
   "execution_count": 4,
   "id": "0390bd20-7bab-42ed-aaf4-0c3d19dc110f",
   "metadata": {},
   "outputs": [],
   "source": [
    "user_info = list(filter(lambda user: user['_id'] in user_id_to_ordered_id, data['users']))"
   ]
  },
  {
   "cell_type": "code",
   "execution_count": 5,
   "id": "80631386-78e2-4952-8655-973c943641db",
   "metadata": {},
   "outputs": [],
   "source": [
    "decoder = MultiDecoder()\n",
    "user_preferences = [decoder.decode(user) for user in user_info]\n",
    "user_features = UserFeaturizer().build_feature_matrix(user_preferences, user_id_to_ordered_id)"
   ]
  },
  {
   "cell_type": "markdown",
   "id": "8e47ae7a-1374-47b5-8243-f6364dee20a6",
   "metadata": {},
   "source": [
    "## Build edges between users"
   ]
  },
  {
   "cell_type": "code",
   "execution_count": 6,
   "id": "b127310d-6609-482c-a930-a0dbd4a93b92",
   "metadata": {},
   "outputs": [
    {
     "name": "stderr",
     "output_type": "stream",
     "text": [
      "100%|██████████| 116641/116641 [00:01<00:00, 81018.14it/s]\n"
     ]
    }
   ],
   "source": [
    "edge_builder = EdgeBuilder(user_id_to_ordered_id)\n",
    "edges = edge_builder.build(data['topology'])"
   ]
  },
  {
   "cell_type": "markdown",
   "id": "17c6126c-6459-45b7-bd3e-23cdec2a5030",
   "metadata": {},
   "source": [
    "# Build target matrix"
   ]
  },
  {
   "cell_type": "code",
   "execution_count": null,
   "id": "65c745c8-d97a-4984-8f24-8e5793996b25",
   "metadata": {},
   "outputs": [
    {
     "name": "stderr",
     "output_type": "stream",
     "text": [
      "100%|██████████| 92153/92153 [00:01<00:00, 51932.78it/s]\n",
      "  2%|▏         | 2036/92153 [00:00<00:09, 9599.75it/s] "
     ]
    }
   ],
   "source": [
    "matrix_builder = CommunitySubscriptionMatrixBuilder()\n",
    "matrix = matrix_builder.build(data['communities'], user_id_to_ordered_id)"
   ]
  },
  {
   "cell_type": "markdown",
   "id": "aaba9813-84ea-403f-9236-0d4c213f8559",
   "metadata": {},
   "source": [
    "# Training"
   ]
  },
  {
   "cell_type": "code",
   "execution_count": null,
   "id": "db9dfe3f-fd06-4c93-a693-123f960cfbb9",
   "metadata": {},
   "outputs": [],
   "source": [
    "def train_step(nn: GNN, graph: torch.Tensor, edge_index: torch.Tensor, target: torch.Tensor, train_indeces: np.ndarray, optimizer, compute_loss: Loss) -> float:\n",
    "    y_pred = nn(graph, edge_index)\n",
    "    train_loss = compute_loss(target[train_indeces], y_pred[train_indeces])\n",
    "    optimizer.zero_grad()\n",
    "    train_loss.backward()\n",
    "    optimizer.step()\n",
    "    return train_loss.item()"
   ]
  },
  {
   "cell_type": "code",
   "execution_count": null,
   "id": "562869be-1b90-4f87-9ba6-b66d8594ecb2",
   "metadata": {},
   "outputs": [],
   "source": [
    "def train(config: dict, graph, edge_index, y_true, train_indeces, test_indeces):\n",
    "    nn = GNN(\n",
    "        input_dim=user_features.numerical.shape[1],\n",
    "        output_dim=matrix.shape[-1],\n",
    "        graph_conv=ConvType.from_string(config['conv_type']),\n",
    "        embeddings=user_features.categorical.max(axis=0) + 1,\n",
    "        **config['backbone_config'],\n",
    "    )\n",
    "    score_type = Metrics.from_string(config[\"metric\"])\n",
    "    compute_loss = Loss(score_type)\n",
    "    optimizer = Adam(nn.parameters())\n",
    "    for _ in range(config['epochs']):\n",
    "        # train\n",
    "        train_loss = train_step(nn, graph, edge_index, y_true, train_indeces, optimizer, compute_loss)\n",
    "        # evaluate\n",
    "        with torch.no_grad():\n",
    "            y_pred = nn(graph, edge_index)\n",
    "            test_loss = compute_loss(y_true[test_indeces], y_pred[test_indeces])\n",
    "        train_score = compute_score(y_true[train_indeces], y_pred[train_indeces].detach(), score_type)\n",
    "        test_score = compute_score(y_true[test_indeces], y_pred[test_indeces].detach(), score_type)\n",
    "        wandb.log({\n",
    "            \"loss/train\": train_loss,\n",
    "            \"loss/test\": test_loss,\n",
    "            f\"{config['metric']}/train\": train_score,\n",
    "            f\"{config['metric']}/test\": test_score,\n",
    "        })"
   ]
  },
  {
   "cell_type": "markdown",
   "id": "5cd97411-00af-4f95-aaaa-d7aee90bd57b",
   "metadata": {},
   "source": [
    "# Experiments"
   ]
  },
  {
   "cell_type": "code",
   "execution_count": null,
   "id": "284a28c9-29e3-4ffa-8626-5730a23837ee",
   "metadata": {},
   "outputs": [],
   "source": [
    "def build_experiment_name(config: dict):\n",
    "    return f\"{config['conv_type']}_\" \\\n",
    "           f\"depth{config['backbone_config']['depth']}\" \\\n",
    "           f\"_dim{config['backbone_config']['hidden_dim']}\" "
   ]
  },
  {
   "cell_type": "code",
   "execution_count": null,
   "id": "27999cd0-5e20-4ab0-99e3-d7937d48f39a",
   "metadata": {},
   "outputs": [],
   "source": [
    "def run_experiment(graph, edge_index, y_true, config: dict):\n",
    "    kfold = KFold(3, random_state=42, shuffle=True)\n",
    "    for train_indeces, test_indeces in kfold.split(range(len(y_true))):\n",
    "        run = wandb.init(\n",
    "            project=\"thesis\",\n",
    "            group=build_experiment_name(config),\n",
    "            config=config,\n",
    "        )\n",
    "        train(config, graph, edge_index, y_true, train_indeces, test_indeces)\n",
    "        wandb.finish()"
   ]
  },
  {
   "cell_type": "code",
   "execution_count": null,
   "id": "3be37e43-b5d5-4b31-b098-c6130072c85e",
   "metadata": {},
   "outputs": [],
   "source": [
    "from sklearn.model_selection import ParameterGrid\n",
    "class ConfigGenerator:\n",
    "    def __init__(self):\n",
    "        self.param_grid = ParameterGrid(\n",
    "            {\n",
    "                \"hidden_dim\": [64, 256],\n",
    "                \"depth\": [1, 2],\n",
    "                \"conv_type\": [\"gcn\", \"gat\", \"res\", \"gin\"],\n",
    "                \"metric\": [\"balanced_accuracy\", \"map_at_k\"],\n",
    "            }\n",
    "        )\n",
    "    \n",
    "    def generate(self):\n",
    "        for pure_config in self.param_grid:\n",
    "            config = {\n",
    "                \"metric\": pure_config[\"metric\"],\n",
    "                \"backbone_config\": {\n",
    "                    \"hidden_dim\": pure_config[\"hidden_dim\"],\n",
    "                    \"depth\": pure_config[\"depth\"],\n",
    "                    \"mlp_depth\": 2,\n",
    "                },\n",
    "                \"conv_type\": pure_config[\"conv_type\"],\n",
    "                \"epochs\": 100,\n",
    "            }\n",
    "            yield config"
   ]
  },
  {
   "cell_type": "code",
   "execution_count": null,
   "id": "2487261e-4182-4e8b-8854-0d0b1e77270a",
   "metadata": {},
   "outputs": [],
   "source": [
    "def main():\n",
    "    graph = user_features\n",
    "    edge_index = torch.tensor(edges)\n",
    "    y_true = torch.tensor(matrix, dtype=torch.float32)\n",
    "    config_generator = ConfigGenerator()\n",
    "    for config in config_generator.generate():\n",
    "        print(config)\n",
    "        run_experiment(graph, edge_index, y_true, config)"
   ]
  },
  {
   "cell_type": "code",
   "execution_count": null,
   "id": "51d36cab-9663-40c5-a599-956b83d371bb",
   "metadata": {},
   "outputs": [],
   "source": [
    "import os\n",
    "os.environ[\"WANDB_SILENT\"] = \"true\""
   ]
  },
  {
   "cell_type": "code",
   "execution_count": null,
   "id": "b75ba388-4b3d-4a25-a15b-3603453dc3c1",
   "metadata": {},
   "outputs": [],
   "source": [
    "main()"
   ]
  },
  {
   "cell_type": "code",
   "execution_count": null,
   "id": "3718ffe1-5d9e-4d35-ae3f-48b7d9b5101e",
   "metadata": {},
   "outputs": [],
   "source": []
  }
 ],
 "metadata": {
  "kernelspec": {
   "display_name": "thesis",
   "language": "python",
   "name": "thesis"
  },
  "language_info": {
   "codemirror_mode": {
    "name": "ipython",
    "version": 3
   },
   "file_extension": ".py",
   "mimetype": "text/x-python",
   "name": "python",
   "nbconvert_exporter": "python",
   "pygments_lexer": "ipython3",
   "version": "3.10.11"
  }
 },
 "nbformat": 4,
 "nbformat_minor": 5
}
