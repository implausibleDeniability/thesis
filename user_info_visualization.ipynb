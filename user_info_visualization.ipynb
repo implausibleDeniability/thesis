{
 "cells": [
  {
   "cell_type": "code",
   "execution_count": 1,
   "id": "c5119831-9c09-4fbb-85ac-53b8dbd90824",
   "metadata": {},
   "outputs": [],
   "source": [
    "import json"
   ]
  },
  {
   "cell_type": "code",
   "execution_count": 2,
   "id": "b8f522f2-2abf-4034-85bb-75616cd2b71b",
   "metadata": {},
   "outputs": [],
   "source": [
    "with open(\"mongo_dump.json\") as file:\n",
    "    users_unprocessed = json.load(file)['users']"
   ]
  },
  {
   "cell_type": "code",
   "execution_count": 3,
   "id": "aed2ee92-2933-4c00-ba4e-df6367cc3466",
   "metadata": {},
   "outputs": [],
   "source": [
    "from src.scrapped_data_decoders.multi_decoder import MultiDecoder\n",
    "decoder = MultiDecoder()"
   ]
  },
  {
   "cell_type": "code",
   "execution_count": 4,
   "id": "69f04188-1744-4f66-8ecd-f75f151327d6",
   "metadata": {},
   "outputs": [],
   "source": [
    "user_preferences = [decoder.decode(user) for user in users_unprocessed]"
   ]
  },
  {
   "cell_type": "code",
   "execution_count": 5,
   "id": "b9af184b-142a-4301-a5d1-89d79bea4dbd",
   "metadata": {},
   "outputs": [
    {
     "data": {
      "text/html": [
       "<div>\n",
       "<style scoped>\n",
       "    .dataframe tbody tr th:only-of-type {\n",
       "        vertical-align: middle;\n",
       "    }\n",
       "\n",
       "    .dataframe tbody tr th {\n",
       "        vertical-align: top;\n",
       "    }\n",
       "\n",
       "    .dataframe thead th {\n",
       "        text-align: right;\n",
       "    }\n",
       "</style>\n",
       "<table border=\"1\" class=\"dataframe\">\n",
       "  <thead>\n",
       "    <tr style=\"text-align: right;\">\n",
       "      <th></th>\n",
       "      <th>is_closed_profile</th>\n",
       "      <th>city_id</th>\n",
       "      <th>city_name</th>\n",
       "      <th>country_id</th>\n",
       "      <th>country_name</th>\n",
       "      <th>sex_id</th>\n",
       "      <th>sex_value</th>\n",
       "      <th>age_is_present</th>\n",
       "      <th>age</th>\n",
       "      <th>political_pref_id</th>\n",
       "      <th>polit_pref_value</th>\n",
       "      <th>life_main_id</th>\n",
       "      <th>life_main_value</th>\n",
       "      <th>people_main_id</th>\n",
       "      <th>people_main_value</th>\n",
       "      <th>alcohol_attitude_id</th>\n",
       "      <th>alcohol_attitude_value</th>\n",
       "    </tr>\n",
       "  </thead>\n",
       "  <tbody>\n",
       "    <tr>\n",
       "      <th>0</th>\n",
       "      <td>False</td>\n",
       "      <td>2</td>\n",
       "      <td>Санкт-Петербург</td>\n",
       "      <td>1</td>\n",
       "      <td>Россия</td>\n",
       "      <td>1</td>\n",
       "      <td>Male</td>\n",
       "      <td>False</td>\n",
       "      <td>0</td>\n",
       "      <td>2</td>\n",
       "      <td>Socialist</td>\n",
       "      <td>0</td>\n",
       "      <td>Unknown</td>\n",
       "      <td>0</td>\n",
       "      <td>Unknown</td>\n",
       "      <td>0</td>\n",
       "      <td>Unknown</td>\n",
       "    </tr>\n",
       "    <tr>\n",
       "      <th>1</th>\n",
       "      <td>True</td>\n",
       "      <td>0</td>\n",
       "      <td>Unknown</td>\n",
       "      <td>0</td>\n",
       "      <td>Unknown</td>\n",
       "      <td>1</td>\n",
       "      <td>Male</td>\n",
       "      <td>False</td>\n",
       "      <td>0</td>\n",
       "      <td>0</td>\n",
       "      <td>Unknown</td>\n",
       "      <td>0</td>\n",
       "      <td>Unknown</td>\n",
       "      <td>0</td>\n",
       "      <td>Unknown</td>\n",
       "      <td>0</td>\n",
       "      <td>Unknown</td>\n",
       "    </tr>\n",
       "    <tr>\n",
       "      <th>2</th>\n",
       "      <td>False</td>\n",
       "      <td>1</td>\n",
       "      <td>Москва</td>\n",
       "      <td>1</td>\n",
       "      <td>Россия</td>\n",
       "      <td>2</td>\n",
       "      <td>Female</td>\n",
       "      <td>True</td>\n",
       "      <td>32</td>\n",
       "      <td>0</td>\n",
       "      <td>Unknown</td>\n",
       "      <td>0</td>\n",
       "      <td>Unknown</td>\n",
       "      <td>0</td>\n",
       "      <td>Unknown</td>\n",
       "      <td>0</td>\n",
       "      <td>Unknown</td>\n",
       "    </tr>\n",
       "    <tr>\n",
       "      <th>3</th>\n",
       "      <td>False</td>\n",
       "      <td>1</td>\n",
       "      <td>Москва</td>\n",
       "      <td>1</td>\n",
       "      <td>Россия</td>\n",
       "      <td>2</td>\n",
       "      <td>Female</td>\n",
       "      <td>False</td>\n",
       "      <td>0</td>\n",
       "      <td>0</td>\n",
       "      <td>Unknown</td>\n",
       "      <td>0</td>\n",
       "      <td>Unknown</td>\n",
       "      <td>0</td>\n",
       "      <td>Unknown</td>\n",
       "      <td>0</td>\n",
       "      <td>Unknown</td>\n",
       "    </tr>\n",
       "    <tr>\n",
       "      <th>4</th>\n",
       "      <td>False</td>\n",
       "      <td>2</td>\n",
       "      <td>Санкт-Петербург</td>\n",
       "      <td>1</td>\n",
       "      <td>Россия</td>\n",
       "      <td>2</td>\n",
       "      <td>Female</td>\n",
       "      <td>False</td>\n",
       "      <td>0</td>\n",
       "      <td>0</td>\n",
       "      <td>Unknown</td>\n",
       "      <td>0</td>\n",
       "      <td>Unknown</td>\n",
       "      <td>0</td>\n",
       "      <td>Unknown</td>\n",
       "      <td>0</td>\n",
       "      <td>Unknown</td>\n",
       "    </tr>\n",
       "    <tr>\n",
       "      <th>...</th>\n",
       "      <td>...</td>\n",
       "      <td>...</td>\n",
       "      <td>...</td>\n",
       "      <td>...</td>\n",
       "      <td>...</td>\n",
       "      <td>...</td>\n",
       "      <td>...</td>\n",
       "      <td>...</td>\n",
       "      <td>...</td>\n",
       "      <td>...</td>\n",
       "      <td>...</td>\n",
       "      <td>...</td>\n",
       "      <td>...</td>\n",
       "      <td>...</td>\n",
       "      <td>...</td>\n",
       "      <td>...</td>\n",
       "      <td>...</td>\n",
       "    </tr>\n",
       "    <tr>\n",
       "      <th>87978</th>\n",
       "      <td>False</td>\n",
       "      <td>1952694</td>\n",
       "      <td>Bursa</td>\n",
       "      <td>0</td>\n",
       "      <td>Unknown</td>\n",
       "      <td>2</td>\n",
       "      <td>Female</td>\n",
       "      <td>True</td>\n",
       "      <td>38</td>\n",
       "      <td>0</td>\n",
       "      <td>Unknown</td>\n",
       "      <td>0</td>\n",
       "      <td>Unknown</td>\n",
       "      <td>0</td>\n",
       "      <td>Unknown</td>\n",
       "      <td>0</td>\n",
       "      <td>Unknown</td>\n",
       "    </tr>\n",
       "    <tr>\n",
       "      <th>87979</th>\n",
       "      <td>False</td>\n",
       "      <td>60</td>\n",
       "      <td>Казань</td>\n",
       "      <td>1</td>\n",
       "      <td>Россия</td>\n",
       "      <td>1</td>\n",
       "      <td>Male</td>\n",
       "      <td>False</td>\n",
       "      <td>0</td>\n",
       "      <td>3</td>\n",
       "      <td>Moderate</td>\n",
       "      <td>2</td>\n",
       "      <td>Career and Money</td>\n",
       "      <td>6</td>\n",
       "      <td>Humor and Zest</td>\n",
       "      <td>1</td>\n",
       "      <td>Strongly Negative</td>\n",
       "    </tr>\n",
       "    <tr>\n",
       "      <th>87980</th>\n",
       "      <td>False</td>\n",
       "      <td>649</td>\n",
       "      <td>Гродно</td>\n",
       "      <td>3</td>\n",
       "      <td>Беларусь</td>\n",
       "      <td>1</td>\n",
       "      <td>Male</td>\n",
       "      <td>False</td>\n",
       "      <td>0</td>\n",
       "      <td>0</td>\n",
       "      <td>Unknown</td>\n",
       "      <td>0</td>\n",
       "      <td>Unknown</td>\n",
       "      <td>0</td>\n",
       "      <td>Unknown</td>\n",
       "      <td>0</td>\n",
       "      <td>Unknown</td>\n",
       "    </tr>\n",
       "    <tr>\n",
       "      <th>87981</th>\n",
       "      <td>False</td>\n",
       "      <td>0</td>\n",
       "      <td>Unknown</td>\n",
       "      <td>0</td>\n",
       "      <td>Unknown</td>\n",
       "      <td>2</td>\n",
       "      <td>Female</td>\n",
       "      <td>True</td>\n",
       "      <td>17</td>\n",
       "      <td>0</td>\n",
       "      <td>Unknown</td>\n",
       "      <td>0</td>\n",
       "      <td>Unknown</td>\n",
       "      <td>0</td>\n",
       "      <td>Unknown</td>\n",
       "      <td>0</td>\n",
       "      <td>Unknown</td>\n",
       "    </tr>\n",
       "    <tr>\n",
       "      <th>87982</th>\n",
       "      <td>True</td>\n",
       "      <td>0</td>\n",
       "      <td>Unknown</td>\n",
       "      <td>1</td>\n",
       "      <td>Россия</td>\n",
       "      <td>2</td>\n",
       "      <td>Female</td>\n",
       "      <td>True</td>\n",
       "      <td>29</td>\n",
       "      <td>0</td>\n",
       "      <td>Unknown</td>\n",
       "      <td>0</td>\n",
       "      <td>Unknown</td>\n",
       "      <td>0</td>\n",
       "      <td>Unknown</td>\n",
       "      <td>0</td>\n",
       "      <td>Unknown</td>\n",
       "    </tr>\n",
       "  </tbody>\n",
       "</table>\n",
       "<p>87983 rows × 17 columns</p>\n",
       "</div>"
      ],
      "text/plain": [
       "       is_closed_profile  city_id        city_name  country_id country_name  \\\n",
       "0                  False        2  Санкт-Петербург           1       Россия   \n",
       "1                   True        0          Unknown           0      Unknown   \n",
       "2                  False        1           Москва           1       Россия   \n",
       "3                  False        1           Москва           1       Россия   \n",
       "4                  False        2  Санкт-Петербург           1       Россия   \n",
       "...                  ...      ...              ...         ...          ...   \n",
       "87978              False  1952694            Bursa           0      Unknown   \n",
       "87979              False       60           Казань           1       Россия   \n",
       "87980              False      649           Гродно           3     Беларусь   \n",
       "87981              False        0          Unknown           0      Unknown   \n",
       "87982               True        0          Unknown           1       Россия   \n",
       "\n",
       "       sex_id sex_value  age_is_present  age  political_pref_id  \\\n",
       "0           1      Male           False    0                  2   \n",
       "1           1      Male           False    0                  0   \n",
       "2           2    Female            True   32                  0   \n",
       "3           2    Female           False    0                  0   \n",
       "4           2    Female           False    0                  0   \n",
       "...       ...       ...             ...  ...                ...   \n",
       "87978       2    Female            True   38                  0   \n",
       "87979       1      Male           False    0                  3   \n",
       "87980       1      Male           False    0                  0   \n",
       "87981       2    Female            True   17                  0   \n",
       "87982       2    Female            True   29                  0   \n",
       "\n",
       "      polit_pref_value  life_main_id   life_main_value  people_main_id  \\\n",
       "0            Socialist             0           Unknown               0   \n",
       "1              Unknown             0           Unknown               0   \n",
       "2              Unknown             0           Unknown               0   \n",
       "3              Unknown             0           Unknown               0   \n",
       "4              Unknown             0           Unknown               0   \n",
       "...                ...           ...               ...             ...   \n",
       "87978          Unknown             0           Unknown               0   \n",
       "87979         Moderate             2  Career and Money               6   \n",
       "87980          Unknown             0           Unknown               0   \n",
       "87981          Unknown             0           Unknown               0   \n",
       "87982          Unknown             0           Unknown               0   \n",
       "\n",
       "      people_main_value  alcohol_attitude_id alcohol_attitude_value  \n",
       "0               Unknown                    0                Unknown  \n",
       "1               Unknown                    0                Unknown  \n",
       "2               Unknown                    0                Unknown  \n",
       "3               Unknown                    0                Unknown  \n",
       "4               Unknown                    0                Unknown  \n",
       "...                 ...                  ...                    ...  \n",
       "87978           Unknown                    0                Unknown  \n",
       "87979    Humor and Zest                    1      Strongly Negative  \n",
       "87980           Unknown                    0                Unknown  \n",
       "87981           Unknown                    0                Unknown  \n",
       "87982           Unknown                    0                Unknown  \n",
       "\n",
       "[87983 rows x 17 columns]"
      ]
     },
     "execution_count": 5,
     "metadata": {},
     "output_type": "execute_result"
    }
   ],
   "source": [
    "import pandas as pd\n",
    "df = pd.DataFrame(user_preferences)\n",
    "df"
   ]
  },
  {
   "cell_type": "code",
   "execution_count": 6,
   "id": "0ac82295-428f-4847-8569-2a2e4a0e3ad5",
   "metadata": {},
   "outputs": [],
   "source": [
    "from matplotlib import pyplot as plt\n",
    "import plotly.express as px"
   ]
  },
  {
   "cell_type": "code",
   "execution_count": 7,
   "id": "52bfd4c0-0212-4298-a0b3-a8dd46311f4a",
   "metadata": {},
   "outputs": [],
   "source": [
    "def draw_piechart(\n",
    "        value_counts: pd.Series, \n",
    "        title: str,\n",
    "        top_n: int = 8, \n",
    "        filename: str = \"image.png\",\n",
    "    ) -> None:\n",
    "    present_values = value_counts[:top_n]\n",
    "    sum_absent_values = value_counts[top_n:].sum()\n",
    "    if sum_absent_values > 0:\n",
    "        cropped_value_counts = pd.concat([value_counts[:top_n], pd.Series({\"Other\": value_counts[9:].sum()})])\n",
    "    else:\n",
    "        cropped_value_counts = present_values\n",
    "    fig = px.pie(\n",
    "        names=cropped_value_counts.index,\n",
    "        values=cropped_value_counts.values,\n",
    "        title=title,\n",
    "    )\n",
    "    fig.update_traces(textposition='auto', textinfo='label+percent')\n",
    "    fig.update(layout_showlegend=False)\n",
    "    fig.write_image(filename)"
   ]
  },
  {
   "cell_type": "markdown",
   "id": "410533fd-b951-49f4-bc16-9c8954cd48c9",
   "metadata": {},
   "source": [
    "# City"
   ]
  },
  {
   "cell_type": "code",
   "execution_count": 8,
   "id": "678d2a07-b8a8-4209-a75b-d86480ee0cec",
   "metadata": {},
   "outputs": [
    {
     "data": {
      "image/png": "[encoded data removed]",
      "text/plain": [
       "<Figure size 512x384 with 1 Axes>"
      ]
     },
     "metadata": {},
     "output_type": "display_data"
    }
   ],
   "source": [
    "fig, ax = plt.subplots(dpi=80)\n",
    "plt.bar(\n",
    "    [\"Specified\", \"Not specified\"], \n",
    "    (df.city_id != 0).value_counts(),\n",
    ")\n",
    "plt.ylabel(\"Number of profiles\")\n",
    "plt.title(\"Proportion of profiles with specified cities\")\n",
    "plt.savefig(\"figures/proportion_of_profiles_with_specified_cities.pdf\")"
   ]
  },
  {
   "cell_type": "code",
   "execution_count": 9,
   "id": "bd322fe2-6420-490b-aedd-266c3eaa47c7",
   "metadata": {},
   "outputs": [],
   "source": [
    "draw_piechart(\n",
    "    df.city_name.value_counts().drop(['Unknown'], axis='index'),\n",
    "    title=\"\",\n",
    "    top_n=5,\n",
    "    filename=\"figures/cities_distribution.pdf\",\n",
    ")"
   ]
  },
  {
   "cell_type": "markdown",
   "id": "98d36d76-9c19-499d-9a8a-da4c9a93957f",
   "metadata": {},
   "source": [
    "# Age"
   ]
  },
  {
   "cell_type": "code",
   "execution_count": 10,
   "id": "8b201e89-26bc-4ea7-ab84-c43a938d4c8d",
   "metadata": {},
   "outputs": [
    {
     "data": {
      "text/plain": [
       "False    48345\n",
       "True     39638\n",
       "Name: age_is_present, dtype: int64"
      ]
     },
     "execution_count": 10,
     "metadata": {},
     "output_type": "execute_result"
    }
   ],
   "source": [
    "df.age_is_present.value_counts()"
   ]
  },
  {
   "cell_type": "code",
   "execution_count": 11,
   "id": "1fbbb9e5-4c7a-42e0-9cb5-a53e0c98b03a",
   "metadata": {},
   "outputs": [
    {
     "data": {
      "image/png": "[encoded data removed]",
      "text/plain": [
       "<Figure size 512x384 with 1 Axes>"
      ]
     },
     "metadata": {},
     "output_type": "display_data"
    }
   ],
   "source": [
    "fig, ax = plt.subplots(dpi=80)\n",
    "plt.bar(\n",
    "    [\"Specified\", \"Not specified\"], \n",
    "    (df.age_is_present != 0).value_counts()[[1, 0]],\n",
    ")\n",
    "plt.ylabel(\"Number of profiles\")\n",
    "plt.title(\"Proportion of profiles with specified year of birth\")\n",
    "plt.savefig(\"figures/proportion_of_profiles_with_specified_year_of_birth.pdf\")"
   ]
  },
  {
   "cell_type": "code",
   "execution_count": 12,
   "id": "dd501056-2b55-426b-9f41-c8ae07cdc3aa",
   "metadata": {},
   "outputs": [
    {
     "data": {
      "image/png": "[encoded data removed]",
      "text/plain": [
       "<Figure size 640x480 with 1 Axes>"
      ]
     },
     "metadata": {},
     "output_type": "display_data"
    }
   ],
   "source": [
    "plt.hist(df.age[df.age_is_present].values, bins=20, rwidth=0.8)\n",
    "plt.ylabel(\"Number of profiles\")\n",
    "plt.xlabel(\"Age\")\n",
    "plt.title(\"Age distribution among the users\")\n",
    "plt.savefig(\"figures/age_distribution.pdf\")"
   ]
  },
  {
   "cell_type": "markdown",
   "id": "9fa28fdb-7cb8-46f7-95a2-81f26dfbe851",
   "metadata": {},
   "source": [
    "# Life main value"
   ]
  },
  {
   "cell_type": "code",
   "execution_count": 13,
   "id": "fef5e488-d5b7-4564-8f4d-711b9716cef9",
   "metadata": {},
   "outputs": [
    {
     "data": {
      "image/png": "[encoded data removed]",
      "text/plain": [
       "<Figure size 512x384 with 1 Axes>"
      ]
     },
     "metadata": {},
     "output_type": "display_data"
    }
   ],
   "source": [
    "fig, ax = plt.subplots(dpi=80)\n",
    "plt.bar(\n",
    "    [\"Specified\", \"Not specified\"], \n",
    "    (df.life_main_id != 0).value_counts()[[1, 0]],\n",
    ")\n",
    "plt.ylabel(\"Number of profiles\")\n",
    "plt.title('Proportion of profiles with specified \"Main in life\" field')\n",
    "plt.savefig(\"figures/proportion_of_profiles_with_specified_main_in_life.pdf\")"
   ]
  },
  {
   "cell_type": "code",
   "execution_count": 14,
   "id": "7ce78dbc-800a-410d-b1c9-8aa14c72fab4",
   "metadata": {},
   "outputs": [],
   "source": [
    "draw_piechart(\n",
    "    df.life_main_value.value_counts().drop(['Unknown'], axis='index'),\n",
    "    title=\"\",\n",
    "    top_n=9,\n",
    "    filename=\"figures/life_main_distribution.pdf\",\n",
    ")"
   ]
  },
  {
   "cell_type": "markdown",
   "id": "aee2bebe-d45d-4208-8421-6851e026fb56",
   "metadata": {},
   "source": [
    "# People main"
   ]
  },
  {
   "cell_type": "code",
   "execution_count": 15,
   "id": "841f4768-7887-49ab-a099-8fb3056cca24",
   "metadata": {},
   "outputs": [
    {
     "data": {
      "image/png": "[encoded data removed]",
      "text/plain": [
       "<Figure size 512x384 with 1 Axes>"
      ]
     },
     "metadata": {},
     "output_type": "display_data"
    }
   ],
   "source": [
    "fig, ax = plt.subplots(dpi=80)\n",
    "plt.bar(\n",
    "    [\"Specified\", \"Not specified\"], \n",
    "    (df.people_main_id != 0).value_counts()[[1, 0]],\n",
    ")\n",
    "plt.ylabel(\"Number of profiles\")\n",
    "plt.title('Proportion of profiles with specified \"Main in people\" field')\n",
    "plt.savefig(\"figures/proportion_of_profiles_with_specified_main_in_people.pdf\")"
   ]
  },
  {
   "cell_type": "code",
   "execution_count": 16,
   "id": "7a91ab34-b944-4e65-a249-be3822a9ac9b",
   "metadata": {},
   "outputs": [],
   "source": [
    "draw_piechart(\n",
    "    df.people_main_value.value_counts().drop(['Unknown'], axis='index'),\n",
    "    title=\"\",\n",
    "    top_n=9,\n",
    "    filename=\"figures/people_main_distribution.pdf\",\n",
    ")"
   ]
  }
 ],
 "metadata": {
  "kernelspec": {
   "display_name": "thesis",
   "language": "python",
   "name": "thesis"
  },
  "language_info": {
   "codemirror_mode": {
    "name": "ipython",
    "version": 3
   },
   "file_extension": ".py",
   "mimetype": "text/x-python",
   "name": "python",
   "nbconvert_exporter": "python",
   "pygments_lexer": "ipython3",
   "version": "3.10.10"
  }
 },
 "nbformat": 4,
 "nbformat_minor": 5
}
